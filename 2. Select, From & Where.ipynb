{
 "cells": [
  {
   "cell_type": "markdown",
   "metadata": {},
   "source": [
    "## Introduction\n",
    "Now that you know how to access and examine a dataset, you're ready to write your first SQL query! As you'll soon see, SQL queries will help you sort through a massive dataset, to retrieve only the information that you need.\n",
    "\n",
    "We'll begin by using the keywords SELECT, FROM, and WHERE to get data from specific columns based on conditions you specify.\n",
    "\n",
    "For clarity, we'll work with a small imaginary dataset pet_records which contains just one table, called pets."
   ]
  },
  {
   "cell_type": "markdown",
   "metadata": {},
   "source": [
    "## SELECT ... FROM\n",
    "The most basic SQL query selects a single column from a single table. To do this,\n",
    "\n",
    "specify the column you want after the word SELECT, and then\n",
    "specify the table after the word FROM.\n",
    "For instance, to select the Name column (from the pets table in the pet_records database in the bigquery-public-data project), our query would appear as follows:"
   ]
  },
  {
   "cell_type": "code",
   "execution_count": 65,
   "metadata": {},
   "outputs": [],
   "source": [
    "import pandas as pd\n",
    "from pandas.io import gbq"
   ]
  },
  {
   "cell_type": "code",
   "execution_count": 66,
   "metadata": {},
   "outputs": [
    {
     "name": "stderr",
     "output_type": "stream",
     "text": [
      "Downloading: 100%|█████████████████████████████████████████████████████████████████████| 4/4 [00:00<00:00,  9.76rows/s]\n"
     ]
    }
   ],
   "source": [
    "df = gbq.read_gbq('SELECT * FROM pet_records.pet_records LIMIT 100', project_id='numeric-dialect-275303')"
   ]
  },
  {
   "cell_type": "code",
   "execution_count": 67,
   "metadata": {},
   "outputs": [
    {
     "data": {
      "text/html": [
       "<div>\n",
       "<style scoped>\n",
       "    .dataframe tbody tr th:only-of-type {\n",
       "        vertical-align: middle;\n",
       "    }\n",
       "\n",
       "    .dataframe tbody tr th {\n",
       "        vertical-align: top;\n",
       "    }\n",
       "\n",
       "    .dataframe thead th {\n",
       "        text-align: right;\n",
       "    }\n",
       "</style>\n",
       "<table border=\"1\" class=\"dataframe\">\n",
       "  <thead>\n",
       "    <tr style=\"text-align: right;\">\n",
       "      <th></th>\n",
       "      <th>ID</th>\n",
       "      <th>Name</th>\n",
       "      <th>Animal</th>\n",
       "    </tr>\n",
       "  </thead>\n",
       "  <tbody>\n",
       "    <tr>\n",
       "      <th>0</th>\n",
       "      <td>1</td>\n",
       "      <td>Dr. Harris Bonkers</td>\n",
       "      <td>Rabbit</td>\n",
       "    </tr>\n",
       "    <tr>\n",
       "      <th>1</th>\n",
       "      <td>2</td>\n",
       "      <td>Moon</td>\n",
       "      <td>Dog</td>\n",
       "    </tr>\n",
       "    <tr>\n",
       "      <th>2</th>\n",
       "      <td>3</td>\n",
       "      <td>Ripley</td>\n",
       "      <td>Cat</td>\n",
       "    </tr>\n",
       "    <tr>\n",
       "      <th>3</th>\n",
       "      <td>4</td>\n",
       "      <td>Tom</td>\n",
       "      <td>Cat</td>\n",
       "    </tr>\n",
       "  </tbody>\n",
       "</table>\n",
       "</div>"
      ],
      "text/plain": [
       "   ID                Name  Animal\n",
       "0   1  Dr. Harris Bonkers  Rabbit\n",
       "1   2                Moon     Dog\n",
       "2   3              Ripley     Cat\n",
       "3   4                 Tom     Cat"
      ]
     },
     "execution_count": 67,
     "metadata": {},
     "output_type": "execute_result"
    }
   ],
   "source": [
    "df"
   ]
  },
  {
   "cell_type": "markdown",
   "metadata": {},
   "source": [
    "WHERE ...\n",
    "BigQuery datasets are large, so you'll usually want to return only the rows meeting specific conditions. You can do this using the WHERE clause.\n",
    "\n",
    "The query below returns the entries from the Name column that are in rows where the Animal column has the text 'Cat'."
   ]
  },
  {
   "cell_type": "markdown",
   "metadata": {},
   "source": [
    "##### Cara import dari Kaggle Micro-Coureses"
   ]
  },
  {
   "cell_type": "raw",
   "metadata": {},
   "source": [
    "from google.cloud import bigquery\n",
    "\n",
    "# Create a \"Client\" object\n",
    "client = bigquery.Client()\n",
    "\n",
    "# Construct a reference to the \"openaq\" dataset\n",
    "dataset_ref = client.dataset(\"openaq\", project=\"bigquery-public-data\")\n",
    "\n",
    "# API request - fetch the dataset\n",
    "dataset = client.get_dataset(dataset_ref)\n",
    "\n",
    "# List all the tables in the \"openaq\" dataset\n",
    "tables = list(client.list_tables(dataset))\n",
    "\n",
    "# Print names of all tables in the dataset (there's only one!)\n",
    "for table in tables:  \n",
    "    print(table.table_id)"
   ]
  },
  {
   "cell_type": "markdown",
   "metadata": {},
   "source": [
    "The dataset contains only one table, called global_air_quality. We'll fetch the table and take a peek at the first few rows to see what sort of data it contains. (Again, we have hidden the code. To take a peek, click on the \"Code\" button below.)"
   ]
  },
  {
   "cell_type": "raw",
   "metadata": {},
   "source": [
    "# Construct a reference to the \"global_air_quality\" table\n",
    "table_ref = dataset_ref.table(\"global_air_quality\")\n",
    "\n",
    "# API request - fetch the table\n",
    "table = client.get_table(table_ref)\n",
    "\n",
    "# Preview the first five lines of the \"global_air_quality\" table\n",
    "client.list_rows(table, max_results=5).to_dataframe()"
   ]
  },
  {
   "cell_type": "markdown",
   "metadata": {},
   "source": [
    "##### Cara Sendiri"
   ]
  },
  {
   "cell_type": "code",
   "execution_count": 68,
   "metadata": {},
   "outputs": [
    {
     "name": "stderr",
     "output_type": "stream",
     "text": [
      "Downloading: 100%|█████████████████████████████████████████████████████████████████████| 2/2 [00:01<00:00,  1.17rows/s]\n"
     ]
    }
   ],
   "source": [
    "df = gbq.read_gbq('SELECT * FROM pet_records.pet_records WHERE Animal=\"Cat\"', project_id='numeric-dialect-275303')"
   ]
  },
  {
   "cell_type": "code",
   "execution_count": 69,
   "metadata": {},
   "outputs": [
    {
     "data": {
      "text/html": [
       "<div>\n",
       "<style scoped>\n",
       "    .dataframe tbody tr th:only-of-type {\n",
       "        vertical-align: middle;\n",
       "    }\n",
       "\n",
       "    .dataframe tbody tr th {\n",
       "        vertical-align: top;\n",
       "    }\n",
       "\n",
       "    .dataframe thead th {\n",
       "        text-align: right;\n",
       "    }\n",
       "</style>\n",
       "<table border=\"1\" class=\"dataframe\">\n",
       "  <thead>\n",
       "    <tr style=\"text-align: right;\">\n",
       "      <th></th>\n",
       "      <th>ID</th>\n",
       "      <th>Name</th>\n",
       "      <th>Animal</th>\n",
       "    </tr>\n",
       "  </thead>\n",
       "  <tbody>\n",
       "    <tr>\n",
       "      <th>0</th>\n",
       "      <td>3</td>\n",
       "      <td>Ripley</td>\n",
       "      <td>Cat</td>\n",
       "    </tr>\n",
       "    <tr>\n",
       "      <th>1</th>\n",
       "      <td>4</td>\n",
       "      <td>Tom</td>\n",
       "      <td>Cat</td>\n",
       "    </tr>\n",
       "  </tbody>\n",
       "</table>\n",
       "</div>"
      ],
      "text/plain": [
       "   ID    Name Animal\n",
       "0   3  Ripley    Cat\n",
       "1   4     Tom    Cat"
      ]
     },
     "execution_count": 69,
     "metadata": {},
     "output_type": "execute_result"
    }
   ],
   "source": [
    "df"
   ]
  },
  {
   "cell_type": "markdown",
   "metadata": {},
   "source": [
    "## Example: What are all the U.S. cities in the OpenAQ dataset?\n",
    "Now that you've got the basics down, let's work through an example with a real dataset. We'll use an OpenAQ dataset about air quality.\n",
    "\n",
    "First, we'll set up everything we need to run queries and take a quick peek at what tables are in our database. (Since you learned how to do this in the previous tutorial, we have hidden the code. But if you'd like to take a peek, you need only click on the \"Code\" button below.)"
   ]
  },
  {
   "cell_type": "raw",
   "metadata": {},
   "source": [
    "from google.cloud import bigquery\n",
    "\n",
    "# Create a \"Client\" object\n",
    "client = bigquery.Client()\n",
    "\n",
    "# Construct a reference to the \"openaq\" dataset\n",
    "dataset_ref = client.dataset(\"openaq\", project=\"bigquery-public-data\")\n",
    "\n",
    "# API request - fetch the dataset\n",
    "dataset = client.get_dataset(dataset_ref)\n",
    "\n",
    "# List all the tables in the \"openaq\" dataset\n",
    "tables = list(client.list_tables(dataset))\n",
    "\n",
    "# Print names of all tables in the dataset (there's only one!)\n",
    "for table in tables:  \n",
    "    print(table.table_id)"
   ]
  },
  {
   "cell_type": "markdown",
   "metadata": {},
   "source": [
    "The dataset contains only one table, called global_air_quality. We'll fetch the table and take a peek at the first few rows to see what sort of data it contains. (Again, we have hidden the code. To take a peek, click on the \"Code\" button below.)"
   ]
  },
  {
   "cell_type": "raw",
   "metadata": {},
   "source": [
    "# Construct a reference to the \"global_air_quality\" table\n",
    "table_ref = dataset_ref.table(\"global_air_quality\")\n",
    "\n",
    "# API request - fetch the table\n",
    "table = client.get_table(table_ref)\n",
    "\n",
    "# Preview the first five lines of the \"global_air_quality\" table\n",
    "client.list_rows(table, max_results=5).to_dataframe()"
   ]
  },
  {
   "cell_type": "code",
   "execution_count": 71,
   "metadata": {
    "scrolled": true
   },
   "outputs": [
    {
     "name": "stderr",
     "output_type": "stream",
     "text": [
      "Downloading: 100%|██████████████████████████████████████████████████████████████| 1000/1000 [00:03<00:00, 330.58rows/s]\n"
     ]
    }
   ],
   "source": [
    "aq_indonesia = gbq.read_gbq('select * from openaq.openaq_indonesia limit 1000', project_id='numeric-dialect-275303')"
   ]
  },
  {
   "cell_type": "code",
   "execution_count": 72,
   "metadata": {},
   "outputs": [
    {
     "data": {
      "text/html": [
       "<div>\n",
       "<style scoped>\n",
       "    .dataframe tbody tr th:only-of-type {\n",
       "        vertical-align: middle;\n",
       "    }\n",
       "\n",
       "    .dataframe tbody tr th {\n",
       "        vertical-align: top;\n",
       "    }\n",
       "\n",
       "    .dataframe thead th {\n",
       "        text-align: right;\n",
       "    }\n",
       "</style>\n",
       "<table border=\"1\" class=\"dataframe\">\n",
       "  <thead>\n",
       "    <tr style=\"text-align: right;\">\n",
       "      <th></th>\n",
       "      <th>location</th>\n",
       "      <th>city</th>\n",
       "      <th>country</th>\n",
       "      <th>utc</th>\n",
       "      <th>local</th>\n",
       "      <th>parameter</th>\n",
       "      <th>value</th>\n",
       "      <th>unit</th>\n",
       "      <th>latitude</th>\n",
       "      <th>longitude</th>\n",
       "      <th>attribution</th>\n",
       "    </tr>\n",
       "  </thead>\n",
       "  <tbody>\n",
       "    <tr>\n",
       "      <th>0</th>\n",
       "      <td>US Diplomatic Post: Jakarta South</td>\n",
       "      <td>Jakarta</td>\n",
       "      <td>ID</td>\n",
       "      <td>2020-04-23 20:00:00+00:00</td>\n",
       "      <td>2020-04-23 20:00:00+00:00</td>\n",
       "      <td>pm25</td>\n",
       "      <td>80</td>\n",
       "      <td>µg/m³</td>\n",
       "      <td>-6.236704</td>\n",
       "      <td>106.793240</td>\n",
       "      <td>[{\"name\":\"EPA AirNow DOS\",\"url\":\"http://airnow...</td>\n",
       "    </tr>\n",
       "    <tr>\n",
       "      <th>1</th>\n",
       "      <td>US Diplomatic Post: Jakarta South</td>\n",
       "      <td>Jakarta</td>\n",
       "      <td>ID</td>\n",
       "      <td>2020-04-23 19:00:00+00:00</td>\n",
       "      <td>2020-04-23 19:00:00+00:00</td>\n",
       "      <td>pm25</td>\n",
       "      <td>69</td>\n",
       "      <td>µg/m³</td>\n",
       "      <td>-6.236704</td>\n",
       "      <td>106.793240</td>\n",
       "      <td>[{\"name\":\"EPA AirNow DOS\",\"url\":\"http://airnow...</td>\n",
       "    </tr>\n",
       "    <tr>\n",
       "      <th>2</th>\n",
       "      <td>US Diplomatic Post: Jakarta South</td>\n",
       "      <td>Jakarta</td>\n",
       "      <td>ID</td>\n",
       "      <td>2020-04-23 18:00:00+00:00</td>\n",
       "      <td>2020-04-23 18:00:00+00:00</td>\n",
       "      <td>pm25</td>\n",
       "      <td>72</td>\n",
       "      <td>µg/m³</td>\n",
       "      <td>-6.236704</td>\n",
       "      <td>106.793240</td>\n",
       "      <td>[{\"name\":\"EPA AirNow DOS\",\"url\":\"http://airnow...</td>\n",
       "    </tr>\n",
       "    <tr>\n",
       "      <th>3</th>\n",
       "      <td>US Diplomatic Post: Jakarta South</td>\n",
       "      <td>Jakarta</td>\n",
       "      <td>ID</td>\n",
       "      <td>2020-04-23 17:00:00+00:00</td>\n",
       "      <td>2020-04-23 17:00:00+00:00</td>\n",
       "      <td>pm25</td>\n",
       "      <td>71</td>\n",
       "      <td>µg/m³</td>\n",
       "      <td>-6.236704</td>\n",
       "      <td>106.793240</td>\n",
       "      <td>[{\"name\":\"EPA AirNow DOS\",\"url\":\"http://airnow...</td>\n",
       "    </tr>\n",
       "    <tr>\n",
       "      <th>4</th>\n",
       "      <td>US Diplomatic Post: Jakarta South</td>\n",
       "      <td>Jakarta</td>\n",
       "      <td>ID</td>\n",
       "      <td>2020-04-23 01:00:00+00:00</td>\n",
       "      <td>2020-04-23 01:00:00+00:00</td>\n",
       "      <td>pm25</td>\n",
       "      <td>78</td>\n",
       "      <td>µg/m³</td>\n",
       "      <td>-6.236704</td>\n",
       "      <td>106.793240</td>\n",
       "      <td>[{\"name\":\"EPA AirNow DOS\",\"url\":\"http://airnow...</td>\n",
       "    </tr>\n",
       "    <tr>\n",
       "      <th>...</th>\n",
       "      <td>...</td>\n",
       "      <td>...</td>\n",
       "      <td>...</td>\n",
       "      <td>...</td>\n",
       "      <td>...</td>\n",
       "      <td>...</td>\n",
       "      <td>...</td>\n",
       "      <td>...</td>\n",
       "      <td>...</td>\n",
       "      <td>...</td>\n",
       "      <td>...</td>\n",
       "    </tr>\n",
       "    <tr>\n",
       "      <th>995</th>\n",
       "      <td>US Diplomatic Post: Jakarta Central</td>\n",
       "      <td>Jakarta</td>\n",
       "      <td>ID</td>\n",
       "      <td>2020-02-24 18:00:00+00:00</td>\n",
       "      <td>2020-02-24 18:00:00+00:00</td>\n",
       "      <td>pm25</td>\n",
       "      <td>8</td>\n",
       "      <td>µg/m³</td>\n",
       "      <td>-6.182536</td>\n",
       "      <td>106.834236</td>\n",
       "      <td>[{\"name\":\"EPA AirNow DOS\",\"url\":\"http://airnow...</td>\n",
       "    </tr>\n",
       "    <tr>\n",
       "      <th>996</th>\n",
       "      <td>US Diplomatic Post: Jakarta Central</td>\n",
       "      <td>Jakarta</td>\n",
       "      <td>ID</td>\n",
       "      <td>2020-02-23 17:00:00+00:00</td>\n",
       "      <td>2020-02-23 17:00:00+00:00</td>\n",
       "      <td>pm25</td>\n",
       "      <td>8</td>\n",
       "      <td>µg/m³</td>\n",
       "      <td>-6.182536</td>\n",
       "      <td>106.834236</td>\n",
       "      <td>[{\"name\":\"EPA AirNow DOS\",\"url\":\"http://airnow...</td>\n",
       "    </tr>\n",
       "    <tr>\n",
       "      <th>997</th>\n",
       "      <td>US Diplomatic Post: Jakarta Central</td>\n",
       "      <td>Jakarta</td>\n",
       "      <td>ID</td>\n",
       "      <td>2020-02-23 05:00:00+00:00</td>\n",
       "      <td>2020-02-23 05:00:00+00:00</td>\n",
       "      <td>pm25</td>\n",
       "      <td>8</td>\n",
       "      <td>µg/m³</td>\n",
       "      <td>-6.182536</td>\n",
       "      <td>106.834236</td>\n",
       "      <td>[{\"name\":\"EPA AirNow DOS\",\"url\":\"http://airnow...</td>\n",
       "    </tr>\n",
       "    <tr>\n",
       "      <th>998</th>\n",
       "      <td>US Diplomatic Post: Jakarta Central</td>\n",
       "      <td>Jakarta</td>\n",
       "      <td>ID</td>\n",
       "      <td>2020-02-19 18:00:00+00:00</td>\n",
       "      <td>2020-02-19 18:00:00+00:00</td>\n",
       "      <td>pm25</td>\n",
       "      <td>8</td>\n",
       "      <td>µg/m³</td>\n",
       "      <td>-6.182536</td>\n",
       "      <td>106.834236</td>\n",
       "      <td>[{\"name\":\"EPA AirNow DOS\",\"url\":\"http://airnow...</td>\n",
       "    </tr>\n",
       "    <tr>\n",
       "      <th>999</th>\n",
       "      <td>US Diplomatic Post: Jakarta Central</td>\n",
       "      <td>Jakarta</td>\n",
       "      <td>ID</td>\n",
       "      <td>2020-02-18 07:00:00+00:00</td>\n",
       "      <td>2020-02-18 07:00:00+00:00</td>\n",
       "      <td>pm25</td>\n",
       "      <td>8</td>\n",
       "      <td>µg/m³</td>\n",
       "      <td>-6.182536</td>\n",
       "      <td>106.834236</td>\n",
       "      <td>[{\"name\":\"EPA AirNow DOS\",\"url\":\"http://airnow...</td>\n",
       "    </tr>\n",
       "  </tbody>\n",
       "</table>\n",
       "<p>1000 rows × 11 columns</p>\n",
       "</div>"
      ],
      "text/plain": [
       "                                location     city country  \\\n",
       "0      US Diplomatic Post: Jakarta South  Jakarta      ID   \n",
       "1      US Diplomatic Post: Jakarta South  Jakarta      ID   \n",
       "2      US Diplomatic Post: Jakarta South  Jakarta      ID   \n",
       "3      US Diplomatic Post: Jakarta South  Jakarta      ID   \n",
       "4      US Diplomatic Post: Jakarta South  Jakarta      ID   \n",
       "..                                   ...      ...     ...   \n",
       "995  US Diplomatic Post: Jakarta Central  Jakarta      ID   \n",
       "996  US Diplomatic Post: Jakarta Central  Jakarta      ID   \n",
       "997  US Diplomatic Post: Jakarta Central  Jakarta      ID   \n",
       "998  US Diplomatic Post: Jakarta Central  Jakarta      ID   \n",
       "999  US Diplomatic Post: Jakarta Central  Jakarta      ID   \n",
       "\n",
       "                          utc                     local parameter  value  \\\n",
       "0   2020-04-23 20:00:00+00:00 2020-04-23 20:00:00+00:00      pm25     80   \n",
       "1   2020-04-23 19:00:00+00:00 2020-04-23 19:00:00+00:00      pm25     69   \n",
       "2   2020-04-23 18:00:00+00:00 2020-04-23 18:00:00+00:00      pm25     72   \n",
       "3   2020-04-23 17:00:00+00:00 2020-04-23 17:00:00+00:00      pm25     71   \n",
       "4   2020-04-23 01:00:00+00:00 2020-04-23 01:00:00+00:00      pm25     78   \n",
       "..                        ...                       ...       ...    ...   \n",
       "995 2020-02-24 18:00:00+00:00 2020-02-24 18:00:00+00:00      pm25      8   \n",
       "996 2020-02-23 17:00:00+00:00 2020-02-23 17:00:00+00:00      pm25      8   \n",
       "997 2020-02-23 05:00:00+00:00 2020-02-23 05:00:00+00:00      pm25      8   \n",
       "998 2020-02-19 18:00:00+00:00 2020-02-19 18:00:00+00:00      pm25      8   \n",
       "999 2020-02-18 07:00:00+00:00 2020-02-18 07:00:00+00:00      pm25      8   \n",
       "\n",
       "      unit  latitude   longitude  \\\n",
       "0    µg/m³ -6.236704  106.793240   \n",
       "1    µg/m³ -6.236704  106.793240   \n",
       "2    µg/m³ -6.236704  106.793240   \n",
       "3    µg/m³ -6.236704  106.793240   \n",
       "4    µg/m³ -6.236704  106.793240   \n",
       "..     ...       ...         ...   \n",
       "995  µg/m³ -6.182536  106.834236   \n",
       "996  µg/m³ -6.182536  106.834236   \n",
       "997  µg/m³ -6.182536  106.834236   \n",
       "998  µg/m³ -6.182536  106.834236   \n",
       "999  µg/m³ -6.182536  106.834236   \n",
       "\n",
       "                                           attribution  \n",
       "0    [{\"name\":\"EPA AirNow DOS\",\"url\":\"http://airnow...  \n",
       "1    [{\"name\":\"EPA AirNow DOS\",\"url\":\"http://airnow...  \n",
       "2    [{\"name\":\"EPA AirNow DOS\",\"url\":\"http://airnow...  \n",
       "3    [{\"name\":\"EPA AirNow DOS\",\"url\":\"http://airnow...  \n",
       "4    [{\"name\":\"EPA AirNow DOS\",\"url\":\"http://airnow...  \n",
       "..                                                 ...  \n",
       "995  [{\"name\":\"EPA AirNow DOS\",\"url\":\"http://airnow...  \n",
       "996  [{\"name\":\"EPA AirNow DOS\",\"url\":\"http://airnow...  \n",
       "997  [{\"name\":\"EPA AirNow DOS\",\"url\":\"http://airnow...  \n",
       "998  [{\"name\":\"EPA AirNow DOS\",\"url\":\"http://airnow...  \n",
       "999  [{\"name\":\"EPA AirNow DOS\",\"url\":\"http://airnow...  \n",
       "\n",
       "[1000 rows x 11 columns]"
      ]
     },
     "execution_count": 72,
     "metadata": {},
     "output_type": "execute_result"
    }
   ],
   "source": [
    "aq_indonesia"
   ]
  },
  {
   "cell_type": "markdown",
   "metadata": {},
   "source": [
    "Everything looks good! So, let's put together a query. Say we want to select all the values from the city column that are in rows where the country column is 'US' (for \"United States\")."
   ]
  },
  {
   "cell_type": "raw",
   "metadata": {},
   "source": [
    "# Query to select all the items from the \"city\" column where the \"country\" column is 'US'\n",
    "query = \"\"\"\n",
    "        SELECT city\n",
    "        FROM `bigquery-public-data.openaq.global_air_quality`\n",
    "        WHERE country = 'US'\n",
    "        \"\"\""
   ]
  },
  {
   "cell_type": "code",
   "execution_count": 77,
   "metadata": {
    "scrolled": true
   },
   "outputs": [
    {
     "name": "stderr",
     "output_type": "stream",
     "text": [
      "Downloading: 100%|███████████████████████████████████████████████████████████████████| 50/50 [00:01<00:00, 26.95rows/s]\n"
     ]
    }
   ],
   "source": [
    "# Dataset kita berbeda dengan dataset di khursus \n",
    "aq_indonesia = gbq.read_gbq('select * from openaq.openaq_indonesia where location = \"US Diplomatic Post: Jakarta South\" limit 50', project_id='numeric-dialect-275303')"
   ]
  },
  {
   "cell_type": "code",
   "execution_count": 79,
   "metadata": {
    "scrolled": true
   },
   "outputs": [
    {
     "data": {
      "text/html": [
       "<div>\n",
       "<style scoped>\n",
       "    .dataframe tbody tr th:only-of-type {\n",
       "        vertical-align: middle;\n",
       "    }\n",
       "\n",
       "    .dataframe tbody tr th {\n",
       "        vertical-align: top;\n",
       "    }\n",
       "\n",
       "    .dataframe thead th {\n",
       "        text-align: right;\n",
       "    }\n",
       "</style>\n",
       "<table border=\"1\" class=\"dataframe\">\n",
       "  <thead>\n",
       "    <tr style=\"text-align: right;\">\n",
       "      <th></th>\n",
       "      <th>location</th>\n",
       "      <th>city</th>\n",
       "      <th>country</th>\n",
       "      <th>utc</th>\n",
       "      <th>local</th>\n",
       "      <th>parameter</th>\n",
       "      <th>value</th>\n",
       "      <th>unit</th>\n",
       "      <th>latitude</th>\n",
       "      <th>longitude</th>\n",
       "      <th>attribution</th>\n",
       "    </tr>\n",
       "  </thead>\n",
       "  <tbody>\n",
       "    <tr>\n",
       "      <th>0</th>\n",
       "      <td>US Diplomatic Post: Jakarta South</td>\n",
       "      <td>Jakarta</td>\n",
       "      <td>ID</td>\n",
       "      <td>2020-04-23 20:00:00+00:00</td>\n",
       "      <td>2020-04-23 20:00:00+00:00</td>\n",
       "      <td>pm25</td>\n",
       "      <td>80</td>\n",
       "      <td>µg/m³</td>\n",
       "      <td>-6.236704</td>\n",
       "      <td>106.79324</td>\n",
       "      <td>[{\"name\":\"EPA AirNow DOS\",\"url\":\"http://airnow...</td>\n",
       "    </tr>\n",
       "    <tr>\n",
       "      <th>1</th>\n",
       "      <td>US Diplomatic Post: Jakarta South</td>\n",
       "      <td>Jakarta</td>\n",
       "      <td>ID</td>\n",
       "      <td>2020-04-23 19:00:00+00:00</td>\n",
       "      <td>2020-04-23 19:00:00+00:00</td>\n",
       "      <td>pm25</td>\n",
       "      <td>69</td>\n",
       "      <td>µg/m³</td>\n",
       "      <td>-6.236704</td>\n",
       "      <td>106.79324</td>\n",
       "      <td>[{\"name\":\"EPA AirNow DOS\",\"url\":\"http://airnow...</td>\n",
       "    </tr>\n",
       "    <tr>\n",
       "      <th>2</th>\n",
       "      <td>US Diplomatic Post: Jakarta South</td>\n",
       "      <td>Jakarta</td>\n",
       "      <td>ID</td>\n",
       "      <td>2020-04-23 18:00:00+00:00</td>\n",
       "      <td>2020-04-23 18:00:00+00:00</td>\n",
       "      <td>pm25</td>\n",
       "      <td>72</td>\n",
       "      <td>µg/m³</td>\n",
       "      <td>-6.236704</td>\n",
       "      <td>106.79324</td>\n",
       "      <td>[{\"name\":\"EPA AirNow DOS\",\"url\":\"http://airnow...</td>\n",
       "    </tr>\n",
       "    <tr>\n",
       "      <th>3</th>\n",
       "      <td>US Diplomatic Post: Jakarta South</td>\n",
       "      <td>Jakarta</td>\n",
       "      <td>ID</td>\n",
       "      <td>2020-04-23 17:00:00+00:00</td>\n",
       "      <td>2020-04-23 17:00:00+00:00</td>\n",
       "      <td>pm25</td>\n",
       "      <td>71</td>\n",
       "      <td>µg/m³</td>\n",
       "      <td>-6.236704</td>\n",
       "      <td>106.79324</td>\n",
       "      <td>[{\"name\":\"EPA AirNow DOS\",\"url\":\"http://airnow...</td>\n",
       "    </tr>\n",
       "    <tr>\n",
       "      <th>4</th>\n",
       "      <td>US Diplomatic Post: Jakarta South</td>\n",
       "      <td>Jakarta</td>\n",
       "      <td>ID</td>\n",
       "      <td>2020-04-23 01:00:00+00:00</td>\n",
       "      <td>2020-04-23 01:00:00+00:00</td>\n",
       "      <td>pm25</td>\n",
       "      <td>78</td>\n",
       "      <td>µg/m³</td>\n",
       "      <td>-6.236704</td>\n",
       "      <td>106.79324</td>\n",
       "      <td>[{\"name\":\"EPA AirNow DOS\",\"url\":\"http://airnow...</td>\n",
       "    </tr>\n",
       "  </tbody>\n",
       "</table>\n",
       "</div>"
      ],
      "text/plain": [
       "                            location     city country  \\\n",
       "0  US Diplomatic Post: Jakarta South  Jakarta      ID   \n",
       "1  US Diplomatic Post: Jakarta South  Jakarta      ID   \n",
       "2  US Diplomatic Post: Jakarta South  Jakarta      ID   \n",
       "3  US Diplomatic Post: Jakarta South  Jakarta      ID   \n",
       "4  US Diplomatic Post: Jakarta South  Jakarta      ID   \n",
       "\n",
       "                        utc                     local parameter  value   unit  \\\n",
       "0 2020-04-23 20:00:00+00:00 2020-04-23 20:00:00+00:00      pm25     80  µg/m³   \n",
       "1 2020-04-23 19:00:00+00:00 2020-04-23 19:00:00+00:00      pm25     69  µg/m³   \n",
       "2 2020-04-23 18:00:00+00:00 2020-04-23 18:00:00+00:00      pm25     72  µg/m³   \n",
       "3 2020-04-23 17:00:00+00:00 2020-04-23 17:00:00+00:00      pm25     71  µg/m³   \n",
       "4 2020-04-23 01:00:00+00:00 2020-04-23 01:00:00+00:00      pm25     78  µg/m³   \n",
       "\n",
       "   latitude  longitude                                        attribution  \n",
       "0 -6.236704  106.79324  [{\"name\":\"EPA AirNow DOS\",\"url\":\"http://airnow...  \n",
       "1 -6.236704  106.79324  [{\"name\":\"EPA AirNow DOS\",\"url\":\"http://airnow...  \n",
       "2 -6.236704  106.79324  [{\"name\":\"EPA AirNow DOS\",\"url\":\"http://airnow...  \n",
       "3 -6.236704  106.79324  [{\"name\":\"EPA AirNow DOS\",\"url\":\"http://airnow...  \n",
       "4 -6.236704  106.79324  [{\"name\":\"EPA AirNow DOS\",\"url\":\"http://airnow...  "
      ]
     },
     "execution_count": 79,
     "metadata": {},
     "output_type": "execute_result"
    }
   ],
   "source": [
    "aq_indonesia.head()"
   ]
  },
  {
   "cell_type": "markdown",
   "metadata": {},
   "source": [
    "Take the time now to ensure that this query lines up with what you learned above.\n",
    "\n",
    "## Submitting the query to the dataset\n",
    "We're ready to use this query to get information from the OpenAQ dataset. As in the previous tutorial, the first step is to create a Client object."
   ]
  },
  {
   "cell_type": "raw",
   "metadata": {},
   "source": [
    "# Create a \"Client\" object\n",
    "client = bigquery.Client()"
   ]
  },
  {
   "cell_type": "markdown",
   "metadata": {},
   "source": [
    "We begin by setting up the query with the query() method. We run the method with the default parameters, but this method also allows us to specify more complicated settings that you can read about in the documentation. We'll revisit this later."
   ]
  },
  {
   "cell_type": "raw",
   "metadata": {},
   "source": [
    "# Set up the query\n",
    "query_job = client.query(query)"
   ]
  },
  {
   "cell_type": "markdown",
   "metadata": {},
   "source": [
    "Next, we run the query and convert the results to a pandas DataFrame."
   ]
  },
  {
   "cell_type": "raw",
   "metadata": {},
   "source": [
    "# API request - run the query, and return a pandas DataFrame\n",
    "us_cities = query_job.to_dataframe()"
   ]
  },
  {
   "cell_type": "markdown",
   "metadata": {},
   "source": [
    "Now we've got a pandas DataFrame called us_cities, which we can use like any other DataFrame."
   ]
  },
  {
   "cell_type": "raw",
   "metadata": {},
   "source": [
    "# What five cities have the most measurements?\n",
    "us_cities.city.value_counts().head()"
   ]
  },
  {
   "cell_type": "markdown",
   "metadata": {},
   "source": [
    "## More queries\n",
    "If you want multiple columns, you can select them with a comma between the names:"
   ]
  },
  {
   "cell_type": "raw",
   "metadata": {},
   "source": [
    "query = \"\"\"\n",
    "        SELECT city, country\n",
    "        FROM `bigquery-public-data.openaq.global_air_quality`\n",
    "        WHERE country = 'US'\n",
    "        \"\"\""
   ]
  },
  {
   "cell_type": "markdown",
   "metadata": {},
   "source": [
    "You can select all columns with a * like this:"
   ]
  },
  {
   "cell_type": "raw",
   "metadata": {},
   "source": [
    "query = \"\"\"\n",
    "        SELECT *\n",
    "        FROM `bigquery-public-data.openaq.global_air_quality`\n",
    "        WHERE country = 'US'\n",
    "        \"\"\""
   ]
  },
  {
   "cell_type": "markdown",
   "metadata": {},
   "source": [
    "## Q&A: Notes on formatting\n",
    "The formatting of the SQL query might feel unfamiliar. If you have any questions, you can ask in the comments section at the bottom of this page. Here are answers to two common questions:\n",
    "\n",
    "##### Question: What's up with the triple quotation marks (\"\"\")?\n",
    "Answer: These tell Python that everything inside them is a single string, even though we have line breaks in it. The line breaks aren't necessary, but they make it easier to read your query.\n",
    "\n",
    "##### Question: Do you need to capitalize SELECT and FROM?\n",
    "Answer: No, SQL doesn't care about capitalization. However, it's customary to capitalize your SQL commands, and it makes your queries a bit easier to read.\n",
    "\n",
    "## Working with big datasets\n",
    "BigQuery datasets can be huge. We allow you to do a lot of computation for free, but everyone has some limit.\n",
    "\n",
    "Each Kaggle user can scan 5TB every 30 days for free. Once you hit that limit, you'll have to wait for it to reset.\n",
    "\n",
    "The biggest dataset currently on Kaggle is 3TB, so you can go through your 30-day limit in a couple queries if you aren't careful.\n",
    "\n",
    "Don't worry though: we'll teach you how to avoid scanning too much data at once, so that you don't run over your limit.\n",
    "\n",
    "To begin,you can estimate the size of any query before running it. Here is an example using the (very large!) Hacker News dataset. To see how much data a query will scan, we create a QueryJobConfig object and set the dry_run parameter to True."
   ]
  },
  {
   "cell_type": "raw",
   "metadata": {},
   "source": [
    "# Query to get the score column from every row where the type column has value \"job\"\n",
    "query = \"\"\"\n",
    "        SELECT score, title\n",
    "        FROM `bigquery-public-data.hacker_news.full`\n",
    "        WHERE type = \"job\" \n",
    "        \"\"\"\n",
    "\n",
    "# Create a QueryJobConfig object to estimate size of query without running it\n",
    "dry_run_config = bigquery.QueryJobConfig(dry_run=True)\n",
    "\n",
    "# API request - dry run query to estimate costs\n",
    "dry_run_query_job = client.query(query, job_config=dry_run_config)\n",
    "\n",
    "print(\"This query will process {} bytes.\".format(dry_run_query_job.total_bytes_processed))"
   ]
  },
  {
   "cell_type": "markdown",
   "metadata": {},
   "source": [
    "You can also specify a parameter when running the query to limit how much data you are willing to scan. Here's an example with a low limit."
   ]
  },
  {
   "cell_type": "raw",
   "metadata": {},
   "source": [
    "# Only run the query if it's less than 1 MB\n",
    "ONE_MB = 1000*1000\n",
    "safe_config = bigquery.QueryJobConfig(maximum_bytes_billed=ONE_MB)\n",
    "\n",
    "# Set up the query (will only run if it's less than 1 MB)\n",
    "safe_query_job = client.query(query, job_config=safe_config)\n",
    "\n",
    "# API request - try to run the query, and return a pandas DataFrame\n",
    "safe_query_job.to_dataframe()"
   ]
  },
  {
   "cell_type": "markdown",
   "metadata": {},
   "source": [
    "In this case, the query was cancelled, because the limit of 1 MB was exceeded. However, we can increase the limit to run the query successfully!"
   ]
  },
  {
   "cell_type": "markdown",
   "metadata": {},
   "source": [
    "## Exercise: Select, From & Where"
   ]
  },
  {
   "cell_type": "markdown",
   "metadata": {},
   "source": [
    "### 1) Units of measurement\n",
    "Which countries have reported pollution levels in units of \"ppm\"? In the code cell below, set first_query to an SQL query that pulls the appropriate entries from the country column.\n",
    "\n",
    "In case it's useful to see an example query, here's some code from the tutorial:\n",
    "\n",
    "    query = \"\"\" SELECT city FROM `bigquery-public-data.openaq.global_air_quality` WHERE country = 'US' \"\"\""
   ]
  },
  {
   "cell_type": "raw",
   "metadata": {},
   "source": [
    "# Query to select countries with units of \"ppm\"\n",
    "first_query = \"\"\" SELECT country FROM `bigquery-public-data.openaq.global_air_quality` \n",
    "                  WHERE unit = \"ppm\" \"\"\" # Your code goes here\n",
    "\n",
    "# Set up the query (cancel the query if it would use too much of \n",
    "# your quota, with the limit set to 10 GB)\n",
    "safe_config = bigquery.QueryJobConfig(maximum_bytes_billed=10**10)\n",
    "first_query_job = client.query(first_query, job_config=safe_config)\n",
    "\n",
    "# API request - run the query, and return a pandas DataFrame\n",
    "first_results = first_query_job.to_dataframe()\n",
    "\n",
    "# View top few rows of results\n",
    "print(first_results.head())\n",
    "\n",
    "# Check your answer\n",
    "q_1.check()"
   ]
  },
  {
   "cell_type": "code",
   "execution_count": 88,
   "metadata": {},
   "outputs": [
    {
     "name": "stderr",
     "output_type": "stream",
     "text": [
      "Downloading: 0rows [00:01, ?rows/s]\n"
     ]
    }
   ],
   "source": [
    "# Dataset kita berbeda dengan dataset di khursus \n",
    "aq_indonesia = gbq.read_gbq('select * from openaq.openaq_indonesia where unit = \"ppm\" limit 50', project_id='numeric-dialect-275303')"
   ]
  },
  {
   "cell_type": "code",
   "execution_count": 89,
   "metadata": {},
   "outputs": [
    {
     "data": {
      "text/html": [
       "<div>\n",
       "<style scoped>\n",
       "    .dataframe tbody tr th:only-of-type {\n",
       "        vertical-align: middle;\n",
       "    }\n",
       "\n",
       "    .dataframe tbody tr th {\n",
       "        vertical-align: top;\n",
       "    }\n",
       "\n",
       "    .dataframe thead th {\n",
       "        text-align: right;\n",
       "    }\n",
       "</style>\n",
       "<table border=\"1\" class=\"dataframe\">\n",
       "  <thead>\n",
       "    <tr style=\"text-align: right;\">\n",
       "      <th></th>\n",
       "      <th>location</th>\n",
       "      <th>city</th>\n",
       "      <th>country</th>\n",
       "      <th>utc</th>\n",
       "      <th>local</th>\n",
       "      <th>parameter</th>\n",
       "      <th>value</th>\n",
       "      <th>unit</th>\n",
       "      <th>latitude</th>\n",
       "      <th>longitude</th>\n",
       "      <th>attribution</th>\n",
       "    </tr>\n",
       "  </thead>\n",
       "  <tbody>\n",
       "  </tbody>\n",
       "</table>\n",
       "</div>"
      ],
      "text/plain": [
       "Empty DataFrame\n",
       "Columns: [location, city, country, utc, local, parameter, value, unit, latitude, longitude, attribution]\n",
       "Index: []"
      ]
     },
     "execution_count": 89,
     "metadata": {},
     "output_type": "execute_result"
    }
   ],
   "source": [
    "#tidak ada data unit = \"ppm\" di dataset indonesia\n",
    "aq_indonesia"
   ]
  },
  {
   "cell_type": "markdown",
   "metadata": {},
   "source": [
    "### 2) High air quality\n",
    "Which pollution levels were reported to be exactly 0?\n",
    "\n",
    "Set zero_pollution_query to select all columns of the rows where the value column is 0.\n",
    "Set zero_pollution_results to a pandas DataFrame containing the query results."
   ]
  },
  {
   "cell_type": "code",
   "execution_count": 90,
   "metadata": {},
   "outputs": [
    {
     "name": "stderr",
     "output_type": "stream",
     "text": [
      "Downloading: 100%|█████████████████████████████████████████████████████████████████████| 6/6 [00:00<00:00, 13.28rows/s]\n"
     ]
    }
   ],
   "source": [
    "# Dataset kita berbeda dengan dataset di khursus \n",
    "aq_indonesia = gbq.read_gbq('select * from openaq.openaq_indonesia where value = 0 limit 50', project_id='numeric-dialect-275303')"
   ]
  },
  {
   "cell_type": "code",
   "execution_count": 91,
   "metadata": {},
   "outputs": [
    {
     "data": {
      "text/html": [
       "<div>\n",
       "<style scoped>\n",
       "    .dataframe tbody tr th:only-of-type {\n",
       "        vertical-align: middle;\n",
       "    }\n",
       "\n",
       "    .dataframe tbody tr th {\n",
       "        vertical-align: top;\n",
       "    }\n",
       "\n",
       "    .dataframe thead th {\n",
       "        text-align: right;\n",
       "    }\n",
       "</style>\n",
       "<table border=\"1\" class=\"dataframe\">\n",
       "  <thead>\n",
       "    <tr style=\"text-align: right;\">\n",
       "      <th></th>\n",
       "      <th>location</th>\n",
       "      <th>city</th>\n",
       "      <th>country</th>\n",
       "      <th>utc</th>\n",
       "      <th>local</th>\n",
       "      <th>parameter</th>\n",
       "      <th>value</th>\n",
       "      <th>unit</th>\n",
       "      <th>latitude</th>\n",
       "      <th>longitude</th>\n",
       "      <th>attribution</th>\n",
       "    </tr>\n",
       "  </thead>\n",
       "  <tbody>\n",
       "    <tr>\n",
       "      <th>0</th>\n",
       "      <td>US Diplomatic Post: Jakarta Central</td>\n",
       "      <td>Jakarta</td>\n",
       "      <td>ID</td>\n",
       "      <td>2020-01-29 22:00:00+00:00</td>\n",
       "      <td>2020-01-29 22:00:00+00:00</td>\n",
       "      <td>pm25</td>\n",
       "      <td>0</td>\n",
       "      <td>µg/m³</td>\n",
       "      <td>-6.182536</td>\n",
       "      <td>106.834236</td>\n",
       "      <td>[{\"name\":\"EPA AirNow DOS\",\"url\":\"http://airnow...</td>\n",
       "    </tr>\n",
       "    <tr>\n",
       "      <th>1</th>\n",
       "      <td>US Diplomatic Post: Jakarta Central</td>\n",
       "      <td>Jakarta</td>\n",
       "      <td>ID</td>\n",
       "      <td>2020-01-27 09:00:00+00:00</td>\n",
       "      <td>2020-01-27 09:00:00+00:00</td>\n",
       "      <td>pm25</td>\n",
       "      <td>0</td>\n",
       "      <td>µg/m³</td>\n",
       "      <td>-6.182536</td>\n",
       "      <td>106.834236</td>\n",
       "      <td>[{\"name\":\"EPA AirNow DOS\",\"url\":\"http://airnow...</td>\n",
       "    </tr>\n",
       "    <tr>\n",
       "      <th>2</th>\n",
       "      <td>US Diplomatic Post: Jakarta Central</td>\n",
       "      <td>Jakarta</td>\n",
       "      <td>ID</td>\n",
       "      <td>2020-01-27 08:00:00+00:00</td>\n",
       "      <td>2020-01-27 08:00:00+00:00</td>\n",
       "      <td>pm25</td>\n",
       "      <td>0</td>\n",
       "      <td>µg/m³</td>\n",
       "      <td>-6.182536</td>\n",
       "      <td>106.834236</td>\n",
       "      <td>[{\"name\":\"EPA AirNow DOS\",\"url\":\"http://airnow...</td>\n",
       "    </tr>\n",
       "    <tr>\n",
       "      <th>3</th>\n",
       "      <td>Jakarta Central</td>\n",
       "      <td>N/A</td>\n",
       "      <td>ID</td>\n",
       "      <td>2020-01-29 21:00:00+00:00</td>\n",
       "      <td>2020-01-29 21:00:00+00:00</td>\n",
       "      <td>pm25</td>\n",
       "      <td>0</td>\n",
       "      <td>µg/m³</td>\n",
       "      <td>-6.182536</td>\n",
       "      <td>106.834235</td>\n",
       "      <td>[{\"name\":\"US EPA AirNow\",\"url\":\"http://www.air...</td>\n",
       "    </tr>\n",
       "    <tr>\n",
       "      <th>4</th>\n",
       "      <td>Jakarta Central</td>\n",
       "      <td>N/A</td>\n",
       "      <td>ID</td>\n",
       "      <td>2020-01-27 08:00:00+00:00</td>\n",
       "      <td>2020-01-27 08:00:00+00:00</td>\n",
       "      <td>pm25</td>\n",
       "      <td>0</td>\n",
       "      <td>µg/m³</td>\n",
       "      <td>-6.182536</td>\n",
       "      <td>106.834235</td>\n",
       "      <td>[{\"name\":\"US EPA AirNow\",\"url\":\"http://www.air...</td>\n",
       "    </tr>\n",
       "    <tr>\n",
       "      <th>5</th>\n",
       "      <td>Jakarta Central</td>\n",
       "      <td>N/A</td>\n",
       "      <td>ID</td>\n",
       "      <td>2020-01-27 07:00:00+00:00</td>\n",
       "      <td>2020-01-27 07:00:00+00:00</td>\n",
       "      <td>pm25</td>\n",
       "      <td>0</td>\n",
       "      <td>µg/m³</td>\n",
       "      <td>-6.182536</td>\n",
       "      <td>106.834235</td>\n",
       "      <td>[{\"name\":\"US EPA AirNow\",\"url\":\"http://www.air...</td>\n",
       "    </tr>\n",
       "  </tbody>\n",
       "</table>\n",
       "</div>"
      ],
      "text/plain": [
       "                              location     city country  \\\n",
       "0  US Diplomatic Post: Jakarta Central  Jakarta      ID   \n",
       "1  US Diplomatic Post: Jakarta Central  Jakarta      ID   \n",
       "2  US Diplomatic Post: Jakarta Central  Jakarta      ID   \n",
       "3                      Jakarta Central      N/A      ID   \n",
       "4                      Jakarta Central      N/A      ID   \n",
       "5                      Jakarta Central      N/A      ID   \n",
       "\n",
       "                        utc                     local parameter  value   unit  \\\n",
       "0 2020-01-29 22:00:00+00:00 2020-01-29 22:00:00+00:00      pm25      0  µg/m³   \n",
       "1 2020-01-27 09:00:00+00:00 2020-01-27 09:00:00+00:00      pm25      0  µg/m³   \n",
       "2 2020-01-27 08:00:00+00:00 2020-01-27 08:00:00+00:00      pm25      0  µg/m³   \n",
       "3 2020-01-29 21:00:00+00:00 2020-01-29 21:00:00+00:00      pm25      0  µg/m³   \n",
       "4 2020-01-27 08:00:00+00:00 2020-01-27 08:00:00+00:00      pm25      0  µg/m³   \n",
       "5 2020-01-27 07:00:00+00:00 2020-01-27 07:00:00+00:00      pm25      0  µg/m³   \n",
       "\n",
       "   latitude   longitude                                        attribution  \n",
       "0 -6.182536  106.834236  [{\"name\":\"EPA AirNow DOS\",\"url\":\"http://airnow...  \n",
       "1 -6.182536  106.834236  [{\"name\":\"EPA AirNow DOS\",\"url\":\"http://airnow...  \n",
       "2 -6.182536  106.834236  [{\"name\":\"EPA AirNow DOS\",\"url\":\"http://airnow...  \n",
       "3 -6.182536  106.834235  [{\"name\":\"US EPA AirNow\",\"url\":\"http://www.air...  \n",
       "4 -6.182536  106.834235  [{\"name\":\"US EPA AirNow\",\"url\":\"http://www.air...  \n",
       "5 -6.182536  106.834235  [{\"name\":\"US EPA AirNow\",\"url\":\"http://www.air...  "
      ]
     },
     "execution_count": 91,
     "metadata": {},
     "output_type": "execute_result"
    }
   ],
   "source": [
    "aq_indonesia"
   ]
  },
  {
   "cell_type": "markdown",
   "metadata": {},
   "source": [
    "That query wasn't too complicated, and it got the data you want. But these SELECT queries don't organizing data in a way that answers the most interesting questions. For that, we'll need the GROUP BY command.\n",
    "\n",
    "If you know how to use groupby() in pandas, this is similar. But BigQuery works quickly with far larger datasets.\n",
    "\n",
    "Fortunately, that's next."
   ]
  }
 ],
 "metadata": {
  "kernelspec": {
   "display_name": "Python 3",
   "language": "python",
   "name": "python3"
  },
  "language_info": {
   "codemirror_mode": {
    "name": "ipython",
    "version": 3
   },
   "file_extension": ".py",
   "mimetype": "text/x-python",
   "name": "python",
   "nbconvert_exporter": "python",
   "pygments_lexer": "ipython3",
   "version": "3.7.6"
  }
 },
 "nbformat": 4,
 "nbformat_minor": 4
}
