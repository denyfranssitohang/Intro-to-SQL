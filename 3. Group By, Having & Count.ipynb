{
 "cells": [
  {
   "cell_type": "markdown",
   "metadata": {},
   "source": [
    "## Introduction\n",
    "Now that you can select raw data, you're ready to learn how to group your data and count things within those groups. This can help you answer questions like:\n",
    "\n",
    "- How many of each kind of fruit has our store sold?\n",
    "- How many species of animal has the vet office treated?\n",
    "\n",
    "To do this, you'll learn about three new techniques: GROUP BY, HAVING and COUNT(). Once again, we'll use this made-up table of information on pets."
   ]
  },
  {
   "cell_type": "code",
   "execution_count": 1,
   "metadata": {},
   "outputs": [
    {
     "name": "stderr",
     "output_type": "stream",
     "text": [
      "Downloading: 100%|█████████████████████████████████████████████████████████████████████| 4/4 [00:01<00:00,  2.25rows/s]\n"
     ]
    },
    {
     "data": {
      "text/html": [
       "<div>\n",
       "<style scoped>\n",
       "    .dataframe tbody tr th:only-of-type {\n",
       "        vertical-align: middle;\n",
       "    }\n",
       "\n",
       "    .dataframe tbody tr th {\n",
       "        vertical-align: top;\n",
       "    }\n",
       "\n",
       "    .dataframe thead th {\n",
       "        text-align: right;\n",
       "    }\n",
       "</style>\n",
       "<table border=\"1\" class=\"dataframe\">\n",
       "  <thead>\n",
       "    <tr style=\"text-align: right;\">\n",
       "      <th></th>\n",
       "      <th>Name</th>\n",
       "      <th>Animal</th>\n",
       "    </tr>\n",
       "    <tr>\n",
       "      <th>ID</th>\n",
       "      <th></th>\n",
       "      <th></th>\n",
       "    </tr>\n",
       "  </thead>\n",
       "  <tbody>\n",
       "    <tr>\n",
       "      <th>1</th>\n",
       "      <td>Dr. Harris Bonkers</td>\n",
       "      <td>Rabbit</td>\n",
       "    </tr>\n",
       "    <tr>\n",
       "      <th>2</th>\n",
       "      <td>Moon</td>\n",
       "      <td>Dog</td>\n",
       "    </tr>\n",
       "    <tr>\n",
       "      <th>3</th>\n",
       "      <td>Ripley</td>\n",
       "      <td>Cat</td>\n",
       "    </tr>\n",
       "    <tr>\n",
       "      <th>4</th>\n",
       "      <td>Tom</td>\n",
       "      <td>Cat</td>\n",
       "    </tr>\n",
       "  </tbody>\n",
       "</table>\n",
       "</div>"
      ],
      "text/plain": [
       "                  Name  Animal\n",
       "ID                            \n",
       "1   Dr. Harris Bonkers  Rabbit\n",
       "2                 Moon     Dog\n",
       "3               Ripley     Cat\n",
       "4                  Tom     Cat"
      ]
     },
     "execution_count": 1,
     "metadata": {},
     "output_type": "execute_result"
    }
   ],
   "source": [
    "import pandas as pd\n",
    "from pandas.io import gbq\n",
    "\n",
    "# Cara sendiri untuk import dati bigquery, tetapi query tetap sama\n",
    "df_pet = gbq.read_gbq('select * from pet_records.pet_records', \n",
    "                       project_id='numeric-dialect-275303', index_col=\"ID\")\n",
    "df_pet"
   ]
  },
  {
   "cell_type": "markdown",
   "metadata": {},
   "source": [
    "## COUNT()\n",
    "COUNT(), as you may have guessed from the name, returns a count of things. If you pass it the name of a column, it will return the number of entries in that column.\n",
    "\n",
    "For instance, if we SELECT the COUNT() of the ID column in the pets table, it will return 4, because there are 4 ID's in the table."
   ]
  },
  {
   "cell_type": "code",
   "execution_count": 2,
   "metadata": {},
   "outputs": [
    {
     "name": "stderr",
     "output_type": "stream",
     "text": [
      "Downloading: 100%|█████████████████████████████████████████████████████████████████████| 1/1 [00:01<00:00,  1.62s/rows]\n"
     ]
    },
    {
     "data": {
      "text/html": [
       "<div>\n",
       "<style scoped>\n",
       "    .dataframe tbody tr th:only-of-type {\n",
       "        vertical-align: middle;\n",
       "    }\n",
       "\n",
       "    .dataframe tbody tr th {\n",
       "        vertical-align: top;\n",
       "    }\n",
       "\n",
       "    .dataframe thead th {\n",
       "        text-align: right;\n",
       "    }\n",
       "</style>\n",
       "<table border=\"1\" class=\"dataframe\">\n",
       "  <thead>\n",
       "    <tr style=\"text-align: right;\">\n",
       "      <th></th>\n",
       "      <th>f0_</th>\n",
       "    </tr>\n",
       "  </thead>\n",
       "  <tbody>\n",
       "    <tr>\n",
       "      <th>0</th>\n",
       "      <td>4</td>\n",
       "    </tr>\n",
       "  </tbody>\n",
       "</table>\n",
       "</div>"
      ],
      "text/plain": [
       "   f0_\n",
       "0    4"
      ]
     },
     "execution_count": 2,
     "metadata": {},
     "output_type": "execute_result"
    }
   ],
   "source": [
    "import pandas as pd\n",
    "from pandas.io import gbq\n",
    "\n",
    "# Cara sendiri untuk import dati bigquery, tetapi query tetap sama\n",
    "df_pet = gbq.read_gbq('select COUNT(ID) from pet_records.pet_records', \n",
    "                       project_id='numeric-dialect-275303')\n",
    "df_pet"
   ]
  },
  {
   "cell_type": "markdown",
   "metadata": {},
   "source": [
    "COUNT() is an example of an aggregate function, which takes many values and returns one. (Other examples of aggregate functions include SUM(), AVG(), MIN(), and MAX().) As you'll notice in the picture above, aggregate functions introduce strange column names (like f0__). Later in this tutorial, you'll learn how to change the name to something more descriptive."
   ]
  },
  {
   "cell_type": "markdown",
   "metadata": {},
   "source": [
    "## GROUP BY\n",
    "GROUP BY takes the name of one or more columns, and treats all rows with the same value in that column as a single group when you apply aggregate functions like COUNT().\n",
    "\n",
    "For example, say we want to know how many of each type of animal we have in the pets table. We can use GROUP BY to group together rows that have the same value in the Animal column, while using COUNT() to find out how many ID's we have in each group."
   ]
  },
  {
   "cell_type": "code",
   "execution_count": 3,
   "metadata": {},
   "outputs": [
    {
     "name": "stderr",
     "output_type": "stream",
     "text": [
      "Downloading: 100%|█████████████████████████████████████████████████████████████████████| 3/3 [00:02<00:00,  1.30rows/s]\n"
     ]
    },
    {
     "data": {
      "text/html": [
       "<div>\n",
       "<style scoped>\n",
       "    .dataframe tbody tr th:only-of-type {\n",
       "        vertical-align: middle;\n",
       "    }\n",
       "\n",
       "    .dataframe tbody tr th {\n",
       "        vertical-align: top;\n",
       "    }\n",
       "\n",
       "    .dataframe thead th {\n",
       "        text-align: right;\n",
       "    }\n",
       "</style>\n",
       "<table border=\"1\" class=\"dataframe\">\n",
       "  <thead>\n",
       "    <tr style=\"text-align: right;\">\n",
       "      <th></th>\n",
       "      <th>Animal</th>\n",
       "      <th>f0_</th>\n",
       "    </tr>\n",
       "  </thead>\n",
       "  <tbody>\n",
       "    <tr>\n",
       "      <th>0</th>\n",
       "      <td>Rabbit</td>\n",
       "      <td>1</td>\n",
       "    </tr>\n",
       "    <tr>\n",
       "      <th>1</th>\n",
       "      <td>Dog</td>\n",
       "      <td>1</td>\n",
       "    </tr>\n",
       "    <tr>\n",
       "      <th>2</th>\n",
       "      <td>Cat</td>\n",
       "      <td>2</td>\n",
       "    </tr>\n",
       "  </tbody>\n",
       "</table>\n",
       "</div>"
      ],
      "text/plain": [
       "   Animal  f0_\n",
       "0  Rabbit    1\n",
       "1     Dog    1\n",
       "2     Cat    2"
      ]
     },
     "execution_count": 3,
     "metadata": {},
     "output_type": "execute_result"
    }
   ],
   "source": [
    "# Cara sendiri untuk import dati bigquery, tetapi query tetap sama\n",
    "df_pet = gbq.read_gbq('SELECT Animal, COUNT(ID) FROM pet_records.pet_records GROUP BY Animal', \n",
    "                       project_id='numeric-dialect-275303')\n",
    "df_pet"
   ]
  },
  {
   "cell_type": "markdown",
   "metadata": {},
   "source": [
    "It returns a table with three rows (one for each distinct animal). We can see that the pets table contains 1 rabbit, 1 dog, and 2 cats."
   ]
  },
  {
   "cell_type": "markdown",
   "metadata": {},
   "source": [
    "## GROUP BY ... HAVING\n",
    "HAVING is used in combination with GROUP BY to ignore groups that don't meet certain criteria.\n",
    "\n",
    "So this query, for example, will only include groups that have more than one ID in them."
   ]
  },
  {
   "cell_type": "code",
   "execution_count": 4,
   "metadata": {},
   "outputs": [
    {
     "name": "stderr",
     "output_type": "stream",
     "text": [
      "Downloading: 100%|█████████████████████████████████████████████████████████████████████| 2/2 [00:01<00:00,  1.06rows/s]\n"
     ]
    },
    {
     "data": {
      "text/html": [
       "<div>\n",
       "<style scoped>\n",
       "    .dataframe tbody tr th:only-of-type {\n",
       "        vertical-align: middle;\n",
       "    }\n",
       "\n",
       "    .dataframe tbody tr th {\n",
       "        vertical-align: top;\n",
       "    }\n",
       "\n",
       "    .dataframe thead th {\n",
       "        text-align: right;\n",
       "    }\n",
       "</style>\n",
       "<table border=\"1\" class=\"dataframe\">\n",
       "  <thead>\n",
       "    <tr style=\"text-align: right;\">\n",
       "      <th></th>\n",
       "      <th>Animal</th>\n",
       "      <th>f0_</th>\n",
       "    </tr>\n",
       "  </thead>\n",
       "  <tbody>\n",
       "    <tr>\n",
       "      <th>0</th>\n",
       "      <td>Rabbit</td>\n",
       "      <td>1</td>\n",
       "    </tr>\n",
       "    <tr>\n",
       "      <th>1</th>\n",
       "      <td>Dog</td>\n",
       "      <td>1</td>\n",
       "    </tr>\n",
       "  </tbody>\n",
       "</table>\n",
       "</div>"
      ],
      "text/plain": [
       "   Animal  f0_\n",
       "0  Rabbit    1\n",
       "1     Dog    1"
      ]
     },
     "execution_count": 4,
     "metadata": {},
     "output_type": "execute_result"
    }
   ],
   "source": [
    "# Cara sendiri untuk import dati bigquery, tetapi query tetap sama\n",
    "df_pet = gbq.read_gbq('select Animal, count(ID) from pet_records.pet_records group by Animal having count(ID) =1 ', \n",
    "                       project_id='numeric-dialect-275303')\n",
    "df_pet"
   ]
  },
  {
   "cell_type": "markdown",
   "metadata": {},
   "source": [
    "Since only one group meets the specified criterion, the query will return a table with only one row."
   ]
  },
  {
   "cell_type": "markdown",
   "metadata": {},
   "source": [
    "## Example: Which Hacker News comments generated the most discussion?\n",
    "Ready to see an example on a real dataset? The Hacker News dataset contains information on stories and comments from the Hacker News social networking site.\n",
    "\n",
    "We'll work with the comments table and begin by printing the first few rows. (We have hidden the corresponding code. To take a peek, click on the \"Code\" button below.)"
   ]
  },
  {
   "cell_type": "raw",
   "metadata": {},
   "source": [
    "from google.cloud import bigquery\n",
    "\n",
    "# Create a \"Client\" object\n",
    "client = bigquery.Client()\n",
    "\n",
    "# Construct a reference to the \"hacker_news\" dataset\n",
    "dataset_ref = client.dataset(\"hacker_news\", project=\"bigquery-public-data\")\n",
    "\n",
    "# API request - fetch the dataset\n",
    "dataset = client.get_dataset(dataset_ref)\n",
    "\n",
    "# Construct a reference to the \"comments\" table\n",
    "table_ref = dataset_ref.table(\"comments\")\n",
    "\n",
    "# API request - fetch the table\n",
    "table = client.get_table(table_ref)\n",
    "\n",
    "# Preview the first five lines of the \"comments\" table\n",
    "client.list_rows(table, max_results=5).to_dataframe()"
   ]
  },
  {
   "cell_type": "code",
   "execution_count": 18,
   "metadata": {},
   "outputs": [
    {
     "name": "stderr",
     "output_type": "stream",
     "text": [
      "Downloading: 100%|█████████████████████████████████████████████████████████████████| 100/100 [00:01<00:00, 54.41rows/s]\n"
     ]
    },
    {
     "data": {
      "text/html": [
       "<div>\n",
       "<style scoped>\n",
       "    .dataframe tbody tr th:only-of-type {\n",
       "        vertical-align: middle;\n",
       "    }\n",
       "\n",
       "    .dataframe tbody tr th {\n",
       "        vertical-align: top;\n",
       "    }\n",
       "\n",
       "    .dataframe thead th {\n",
       "        text-align: right;\n",
       "    }\n",
       "</style>\n",
       "<table border=\"1\" class=\"dataframe\">\n",
       "  <thead>\n",
       "    <tr style=\"text-align: right;\">\n",
       "      <th></th>\n",
       "      <th>id</th>\n",
       "      <th>title</th>\n",
       "      <th>url</th>\n",
       "      <th>num_points</th>\n",
       "      <th>num_comments</th>\n",
       "      <th>author</th>\n",
       "      <th>created_at</th>\n",
       "    </tr>\n",
       "  </thead>\n",
       "  <tbody>\n",
       "    <tr>\n",
       "      <th>0</th>\n",
       "      <td>12121216</td>\n",
       "      <td>Valid.ly  Never send another OOPS message</td>\n",
       "      <td>https://www.valid.ly</td>\n",
       "      <td>1</td>\n",
       "      <td>1</td>\n",
       "      <td>validly</td>\n",
       "      <td>2016-07-19 12:05:00+00:00</td>\n",
       "    </tr>\n",
       "    <tr>\n",
       "      <th>1</th>\n",
       "      <td>11610310</td>\n",
       "      <td>Ask HN: Aby recent changes to CSS that broke m...</td>\n",
       "      <td>None</td>\n",
       "      <td>1</td>\n",
       "      <td>1</td>\n",
       "      <td>polskibus</td>\n",
       "      <td>2016-05-02 10:14:00+00:00</td>\n",
       "    </tr>\n",
       "    <tr>\n",
       "      <th>2</th>\n",
       "      <td>11590768</td>\n",
       "      <td>Show HN: Shanhu.io, a programming playground p...</td>\n",
       "      <td>https://shanhu.io</td>\n",
       "      <td>1</td>\n",
       "      <td>1</td>\n",
       "      <td>h8liu</td>\n",
       "      <td>2016-04-28 18:05:00+00:00</td>\n",
       "    </tr>\n",
       "    <tr>\n",
       "      <th>3</th>\n",
       "      <td>10581844</td>\n",
       "      <td>Analysis of 114 propaganda sources from ISIS, ...</td>\n",
       "      <td>http://37.252.122.95/sites/default/files/Insid...</td>\n",
       "      <td>1</td>\n",
       "      <td>1</td>\n",
       "      <td>crosre</td>\n",
       "      <td>2015-11-17 15:53:00+00:00</td>\n",
       "    </tr>\n",
       "    <tr>\n",
       "      <th>4</th>\n",
       "      <td>10402073</td>\n",
       "      <td>Predicting the Future and Exponential Growth</td>\n",
       "      <td>http://uday.io/2015/10/15/predicting-the-futur...</td>\n",
       "      <td>1</td>\n",
       "      <td>1</td>\n",
       "      <td>urs2102</td>\n",
       "      <td>2015-10-16 21:19:00+00:00</td>\n",
       "    </tr>\n",
       "    <tr>\n",
       "      <th>...</th>\n",
       "      <td>...</td>\n",
       "      <td>...</td>\n",
       "      <td>...</td>\n",
       "      <td>...</td>\n",
       "      <td>...</td>\n",
       "      <td>...</td>\n",
       "      <td>...</td>\n",
       "    </tr>\n",
       "    <tr>\n",
       "      <th>95</th>\n",
       "      <td>11301165</td>\n",
       "      <td>Can Dogs Detect Seizures? [2007?]</td>\n",
       "      <td>http://www.epilepsy.com/information/profession...</td>\n",
       "      <td>1</td>\n",
       "      <td>1</td>\n",
       "      <td>YeGoblynQueenne</td>\n",
       "      <td>2016-03-16 22:28:00+00:00</td>\n",
       "    </tr>\n",
       "    <tr>\n",
       "      <th>96</th>\n",
       "      <td>11116381</td>\n",
       "      <td>In Munich, a fightening preview of the rise of...</td>\n",
       "      <td>https://www.washingtonpost.com/opinions/in-mun...</td>\n",
       "      <td>1</td>\n",
       "      <td>1</td>\n",
       "      <td>citizensixteen</td>\n",
       "      <td>2016-02-17 09:03:00+00:00</td>\n",
       "    </tr>\n",
       "    <tr>\n",
       "      <th>97</th>\n",
       "      <td>12379186</td>\n",
       "      <td>Ask HN: Real time one way replication on Linux?</td>\n",
       "      <td>None</td>\n",
       "      <td>1</td>\n",
       "      <td>1</td>\n",
       "      <td>Manozco</td>\n",
       "      <td>2016-08-29 00:07:00+00:00</td>\n",
       "    </tr>\n",
       "    <tr>\n",
       "      <th>98</th>\n",
       "      <td>10886516</td>\n",
       "      <td>Show HN: Cindr</td>\n",
       "      <td>http://cindr.com</td>\n",
       "      <td>1</td>\n",
       "      <td>1</td>\n",
       "      <td>mikeem</td>\n",
       "      <td>2016-01-12 10:19:00+00:00</td>\n",
       "    </tr>\n",
       "    <tr>\n",
       "      <th>99</th>\n",
       "      <td>10983072</td>\n",
       "      <td>Sanctum Sanctorum for Writers</td>\n",
       "      <td>http://www.nytimes.com/1995/05/19/books/sanctu...</td>\n",
       "      <td>1</td>\n",
       "      <td>1</td>\n",
       "      <td>hammerzeit</td>\n",
       "      <td>2016-01-27 20:37:00+00:00</td>\n",
       "    </tr>\n",
       "  </tbody>\n",
       "</table>\n",
       "<p>100 rows × 7 columns</p>\n",
       "</div>"
      ],
      "text/plain": [
       "          id                                              title  \\\n",
       "0   12121216          Valid.ly  Never send another OOPS message   \n",
       "1   11610310  Ask HN: Aby recent changes to CSS that broke m...   \n",
       "2   11590768  Show HN: Shanhu.io, a programming playground p...   \n",
       "3   10581844  Analysis of 114 propaganda sources from ISIS, ...   \n",
       "4   10402073       Predicting the Future and Exponential Growth   \n",
       "..       ...                                                ...   \n",
       "95  11301165                  Can Dogs Detect Seizures? [2007?]   \n",
       "96  11116381  In Munich, a fightening preview of the rise of...   \n",
       "97  12379186    Ask HN: Real time one way replication on Linux?   \n",
       "98  10886516                                     Show HN: Cindr   \n",
       "99  10983072                      Sanctum Sanctorum for Writers   \n",
       "\n",
       "                                                  url  num_points  \\\n",
       "0                                https://www.valid.ly           1   \n",
       "1                                                None           1   \n",
       "2                                   https://shanhu.io           1   \n",
       "3   http://37.252.122.95/sites/default/files/Insid...           1   \n",
       "4   http://uday.io/2015/10/15/predicting-the-futur...           1   \n",
       "..                                                ...         ...   \n",
       "95  http://www.epilepsy.com/information/profession...           1   \n",
       "96  https://www.washingtonpost.com/opinions/in-mun...           1   \n",
       "97                                               None           1   \n",
       "98                                   http://cindr.com           1   \n",
       "99  http://www.nytimes.com/1995/05/19/books/sanctu...           1   \n",
       "\n",
       "    num_comments           author                created_at  \n",
       "0              1          validly 2016-07-19 12:05:00+00:00  \n",
       "1              1        polskibus 2016-05-02 10:14:00+00:00  \n",
       "2              1            h8liu 2016-04-28 18:05:00+00:00  \n",
       "3              1           crosre 2015-11-17 15:53:00+00:00  \n",
       "4              1          urs2102 2015-10-16 21:19:00+00:00  \n",
       "..           ...              ...                       ...  \n",
       "95             1  YeGoblynQueenne 2016-03-16 22:28:00+00:00  \n",
       "96             1   citizensixteen 2016-02-17 09:03:00+00:00  \n",
       "97             1          Manozco 2016-08-29 00:07:00+00:00  \n",
       "98             1           mikeem 2016-01-12 10:19:00+00:00  \n",
       "99             1       hammerzeit 2016-01-27 20:37:00+00:00  \n",
       "\n",
       "[100 rows x 7 columns]"
      ]
     },
     "execution_count": 18,
     "metadata": {},
     "output_type": "execute_result"
    }
   ],
   "source": [
    "# import dataset dari google bigquery dengan pandas\n",
    "hacker_news = gbq.read_gbq('select* from hacker_news.hacker_news_dataset limit 100', \n",
    "                       project_id='numeric-dialect-275303')\n",
    "hacker_news"
   ]
  },
  {
   "cell_type": "code",
   "execution_count": 6,
   "metadata": {},
   "outputs": [
    {
     "data": {
      "text/html": [
       "<div>\n",
       "<style scoped>\n",
       "    .dataframe tbody tr th:only-of-type {\n",
       "        vertical-align: middle;\n",
       "    }\n",
       "\n",
       "    .dataframe tbody tr th {\n",
       "        vertical-align: top;\n",
       "    }\n",
       "\n",
       "    .dataframe thead th {\n",
       "        text-align: right;\n",
       "    }\n",
       "</style>\n",
       "<table border=\"1\" class=\"dataframe\">\n",
       "  <thead>\n",
       "    <tr style=\"text-align: right;\">\n",
       "      <th></th>\n",
       "      <th>id</th>\n",
       "      <th>title</th>\n",
       "      <th>url</th>\n",
       "      <th>num_points</th>\n",
       "      <th>num_comments</th>\n",
       "      <th>author</th>\n",
       "      <th>created_at</th>\n",
       "    </tr>\n",
       "  </thead>\n",
       "  <tbody>\n",
       "    <tr>\n",
       "      <th>0</th>\n",
       "      <td>12121216</td>\n",
       "      <td>Valid.ly  Never send another OOPS message</td>\n",
       "      <td>https://www.valid.ly</td>\n",
       "      <td>1</td>\n",
       "      <td>1</td>\n",
       "      <td>validly</td>\n",
       "      <td>2016-07-19 12:05:00+00:00</td>\n",
       "    </tr>\n",
       "    <tr>\n",
       "      <th>1</th>\n",
       "      <td>11610310</td>\n",
       "      <td>Ask HN: Aby recent changes to CSS that broke m...</td>\n",
       "      <td>None</td>\n",
       "      <td>1</td>\n",
       "      <td>1</td>\n",
       "      <td>polskibus</td>\n",
       "      <td>2016-05-02 10:14:00+00:00</td>\n",
       "    </tr>\n",
       "    <tr>\n",
       "      <th>2</th>\n",
       "      <td>11590768</td>\n",
       "      <td>Show HN: Shanhu.io, a programming playground p...</td>\n",
       "      <td>https://shanhu.io</td>\n",
       "      <td>1</td>\n",
       "      <td>1</td>\n",
       "      <td>h8liu</td>\n",
       "      <td>2016-04-28 18:05:00+00:00</td>\n",
       "    </tr>\n",
       "    <tr>\n",
       "      <th>3</th>\n",
       "      <td>10581844</td>\n",
       "      <td>Analysis of 114 propaganda sources from ISIS, ...</td>\n",
       "      <td>http://37.252.122.95/sites/default/files/Insid...</td>\n",
       "      <td>1</td>\n",
       "      <td>1</td>\n",
       "      <td>crosre</td>\n",
       "      <td>2015-11-17 15:53:00+00:00</td>\n",
       "    </tr>\n",
       "    <tr>\n",
       "      <th>4</th>\n",
       "      <td>10402073</td>\n",
       "      <td>Predicting the Future and Exponential Growth</td>\n",
       "      <td>http://uday.io/2015/10/15/predicting-the-futur...</td>\n",
       "      <td>1</td>\n",
       "      <td>1</td>\n",
       "      <td>urs2102</td>\n",
       "      <td>2015-10-16 21:19:00+00:00</td>\n",
       "    </tr>\n",
       "  </tbody>\n",
       "</table>\n",
       "</div>"
      ],
      "text/plain": [
       "         id                                              title  \\\n",
       "0  12121216          Valid.ly  Never send another OOPS message   \n",
       "1  11610310  Ask HN: Aby recent changes to CSS that broke m...   \n",
       "2  11590768  Show HN: Shanhu.io, a programming playground p...   \n",
       "3  10581844  Analysis of 114 propaganda sources from ISIS, ...   \n",
       "4  10402073       Predicting the Future and Exponential Growth   \n",
       "\n",
       "                                                 url  num_points  \\\n",
       "0                               https://www.valid.ly           1   \n",
       "1                                               None           1   \n",
       "2                                  https://shanhu.io           1   \n",
       "3  http://37.252.122.95/sites/default/files/Insid...           1   \n",
       "4  http://uday.io/2015/10/15/predicting-the-futur...           1   \n",
       "\n",
       "   num_comments     author                created_at  \n",
       "0             1    validly 2016-07-19 12:05:00+00:00  \n",
       "1             1  polskibus 2016-05-02 10:14:00+00:00  \n",
       "2             1      h8liu 2016-04-28 18:05:00+00:00  \n",
       "3             1     crosre 2015-11-17 15:53:00+00:00  \n",
       "4             1    urs2102 2015-10-16 21:19:00+00:00  "
      ]
     },
     "execution_count": 6,
     "metadata": {},
     "output_type": "execute_result"
    }
   ],
   "source": [
    "hacker_news.head()"
   ]
  },
  {
   "cell_type": "markdown",
   "metadata": {},
   "source": [
    "Let's use the table to see which comments generated the most replies. Since:\n",
    "\n",
    "- the parent column indicates the comment that was replied to, and\n",
    "- the id column has the unique ID used to identify each comment,\n",
    "\n",
    "we can GROUP BY the parent column and COUNT() the id column in order to figure out the number of comments that were made as responses to a specific comment. (This might not make sense immediately -- take your time here to ensure that everything is clear!)\n",
    "\n",
    "Furthermore, since we're only interested in popular comments, we'll look at comments with more than ten replies. So, we'll only return groups HAVING more than ten ID's."
   ]
  },
  {
   "cell_type": "raw",
   "metadata": {},
   "source": [
    "# Query to select comments that received more than 10 replies\n",
    "query_popular = \"\"\"\n",
    "                SELECT parent, COUNT(id)\n",
    "                FROM `bigquery-public-data.hacker_news.comments`\n",
    "                GROUP BY parent\n",
    "                HAVING COUNT(id) > 10\n",
    "                \"\"\""
   ]
  },
  {
   "cell_type": "code",
   "execution_count": 7,
   "metadata": {},
   "outputs": [
    {
     "name": "stderr",
     "output_type": "stream",
     "text": [
      "Downloading: 100%|█████████████████████████████████████████████████████████████████| 135/135 [00:01<00:00, 67.54rows/s]\n"
     ]
    },
    {
     "data": {
      "text/html": [
       "<div>\n",
       "<style scoped>\n",
       "    .dataframe tbody tr th:only-of-type {\n",
       "        vertical-align: middle;\n",
       "    }\n",
       "\n",
       "    .dataframe tbody tr th {\n",
       "        vertical-align: top;\n",
       "    }\n",
       "\n",
       "    .dataframe thead th {\n",
       "        text-align: right;\n",
       "    }\n",
       "</style>\n",
       "<table border=\"1\" class=\"dataframe\">\n",
       "  <thead>\n",
       "    <tr style=\"text-align: right;\">\n",
       "      <th></th>\n",
       "      <th>num_comments</th>\n",
       "      <th>f0_</th>\n",
       "    </tr>\n",
       "  </thead>\n",
       "  <tbody>\n",
       "    <tr>\n",
       "      <th>0</th>\n",
       "      <td>1</td>\n",
       "      <td>6884</td>\n",
       "    </tr>\n",
       "    <tr>\n",
       "      <th>1</th>\n",
       "      <td>2</td>\n",
       "      <td>2467</td>\n",
       "    </tr>\n",
       "    <tr>\n",
       "      <th>2</th>\n",
       "      <td>3</td>\n",
       "      <td>1265</td>\n",
       "    </tr>\n",
       "    <tr>\n",
       "      <th>3</th>\n",
       "      <td>4</td>\n",
       "      <td>772</td>\n",
       "    </tr>\n",
       "    <tr>\n",
       "      <th>4</th>\n",
       "      <td>5</td>\n",
       "      <td>554</td>\n",
       "    </tr>\n",
       "  </tbody>\n",
       "</table>\n",
       "</div>"
      ],
      "text/plain": [
       "   num_comments   f0_\n",
       "0             1  6884\n",
       "1             2  2467\n",
       "2             3  1265\n",
       "3             4   772\n",
       "4             5   554"
      ]
     },
     "execution_count": 7,
     "metadata": {},
     "output_type": "execute_result"
    }
   ],
   "source": [
    "# import dataset dari google bigquery dengan pandas (dataset hacker_news.comments belum kita download)\n",
    "# kita coba tampilkan num_comments\n",
    "hacker_news = gbq.read_gbq('SELECT num_comments, COUNT(id) FROM hacker_news.hacker_news_dataset GROUP BY num_comments HAVING COUNT(id) > 10', \n",
    "                            project_id='numeric-dialect-275303')\n",
    "hacker_news.head()"
   ]
  },
  {
   "cell_type": "markdown",
   "metadata": {},
   "source": [
    "Now that our query is ready, let's run it and store the results in a pandas DataFrame:"
   ]
  },
  {
   "cell_type": "raw",
   "metadata": {},
   "source": [
    "# Set up the query (cancel the query if it would use too much of \n",
    "# your quota, with the limit set to 10 GB)\n",
    "safe_config = bigquery.QueryJobConfig(maximum_bytes_billed=10**10)\n",
    "query_job = client.query(query_popular, job_config=safe_config)\n",
    "\n",
    "# API request - run the query, and convert the results to a pandas DataFrame\n",
    "popular_comments = query_job.to_dataframe()\n",
    "\n",
    "# Print the first five rows of the DataFrame\n",
    "popular_comments.head()"
   ]
  },
  {
   "cell_type": "raw",
   "metadata": {},
   "source": [
    "#OUTPUT\n",
    "\n",
    "parent\tf0_\n",
    "0\t7021664\t40\n",
    "1\t7213378\t61\n",
    "2\t4325231\t62\n",
    "3\t8979886\t38\n",
    "4\t8399209\t40"
   ]
  },
  {
   "cell_type": "markdown",
   "metadata": {},
   "source": [
    "Each row in the popular_comments DataFrame corresponds to a comment that received more than ten replies. For instance, the comment with ID 801208 received 56 replies."
   ]
  },
  {
   "cell_type": "markdown",
   "metadata": {},
   "source": [
    "## Aliasing and other improvements\n",
    "A couple hints to make your queries even better:\n",
    "\n",
    "- The column resulting from COUNT(id) was called f0__. That's not a very descriptive name. You can change the name by adding AS NumPosts after you specify the aggregation. This is called aliasing, and it will be covered in more detail in an upcoming lesson.\n",
    "- If you are ever unsure what to put inside the COUNT() function, you can do COUNT(1) to count the rows in each group. Most people find it especially readable, because we know it's not focusing on other columns. It also scans less data than if supplied column names (making it faster and using less of your data access quota).\n",
    "\n",
    "Using these tricks, we can rewrite our query:"
   ]
  },
  {
   "cell_type": "raw",
   "metadata": {},
   "source": [
    "# Improved version of earlier query, now with aliasing & improved readability\n",
    "query_improved = \"\"\"\n",
    "                 SELECT parent, COUNT(1) AS NumPosts\n",
    "                 FROM `bigquery-public-data.hacker_news.comments`\n",
    "                 GROUP BY parent\n",
    "                 HAVING COUNT(1) > 10\n",
    "                 \"\"\"\n",
    "\n",
    "safe_config = bigquery.QueryJobConfig(maximum_bytes_billed=10**10)\n",
    "query_job = client.query(query_improved, job_config=safe_config)\n",
    "\n",
    "# API request - run the query, and convert the results to a pandas DataFrame\n",
    "improved_df = query_job.to_dataframe()\n",
    "\n",
    "# Print the first five rows of the DataFrame\n",
    "improved_df.head()"
   ]
  },
  {
   "cell_type": "raw",
   "metadata": {},
   "source": [
    "# OUTPUT\n",
    "\tparent\tNumPosts\n",
    "0\t6683866\t39\n",
    "1\t6627329\t46\n",
    "2\t3476843\t49\n",
    "3\t7234010\t48\n",
    "4\t2932956\t76"
   ]
  },
  {
   "cell_type": "code",
   "execution_count": 8,
   "metadata": {},
   "outputs": [
    {
     "name": "stderr",
     "output_type": "stream",
     "text": [
      "Downloading: 100%|█████████████████████████████████████████████████████████████████| 135/135 [00:01<00:00, 82.73rows/s]\n"
     ]
    },
    {
     "data": {
      "text/html": [
       "<div>\n",
       "<style scoped>\n",
       "    .dataframe tbody tr th:only-of-type {\n",
       "        vertical-align: middle;\n",
       "    }\n",
       "\n",
       "    .dataframe tbody tr th {\n",
       "        vertical-align: top;\n",
       "    }\n",
       "\n",
       "    .dataframe thead th {\n",
       "        text-align: right;\n",
       "    }\n",
       "</style>\n",
       "<table border=\"1\" class=\"dataframe\">\n",
       "  <thead>\n",
       "    <tr style=\"text-align: right;\">\n",
       "      <th></th>\n",
       "      <th>num_comments</th>\n",
       "      <th>NumPosts</th>\n",
       "    </tr>\n",
       "  </thead>\n",
       "  <tbody>\n",
       "    <tr>\n",
       "      <th>0</th>\n",
       "      <td>1</td>\n",
       "      <td>6884</td>\n",
       "    </tr>\n",
       "    <tr>\n",
       "      <th>1</th>\n",
       "      <td>2</td>\n",
       "      <td>2467</td>\n",
       "    </tr>\n",
       "    <tr>\n",
       "      <th>2</th>\n",
       "      <td>3</td>\n",
       "      <td>1265</td>\n",
       "    </tr>\n",
       "    <tr>\n",
       "      <th>3</th>\n",
       "      <td>4</td>\n",
       "      <td>772</td>\n",
       "    </tr>\n",
       "    <tr>\n",
       "      <th>4</th>\n",
       "      <td>5</td>\n",
       "      <td>554</td>\n",
       "    </tr>\n",
       "  </tbody>\n",
       "</table>\n",
       "</div>"
      ],
      "text/plain": [
       "   num_comments  NumPosts\n",
       "0             1      6884\n",
       "1             2      2467\n",
       "2             3      1265\n",
       "3             4       772\n",
       "4             5       554"
      ]
     },
     "execution_count": 8,
     "metadata": {},
     "output_type": "execute_result"
    }
   ],
   "source": [
    "# import dataset dari google bigquery dengan pandas (dataset hacker_news.comments belum kita download)\n",
    "# kita coba tampilkan num_comments\n",
    "hacker_news = gbq.read_gbq(\n",
    "    'SELECT num_comments, COUNT(id) as NumPosts FROM hacker_news.hacker_news_dataset GROUP BY num_comments HAVING COUNT(1) > 10', \n",
    "     project_id='numeric-dialect-275303')\n",
    "hacker_news.head()"
   ]
  },
  {
   "cell_type": "markdown",
   "metadata": {},
   "source": [
    "Now you have the data you want, and it has descriptive names. That's good style."
   ]
  },
  {
   "cell_type": "markdown",
   "metadata": {},
   "source": [
    "## Note on using GROUP BY\n",
    "Note that because it tells SQL how to apply aggregate functions (like COUNT()), it doesn't make sense to use GROUP BY without an aggregate function. Similarly, if you have any GROUP BY clause, then all variables must be passed to either a\n",
    "\n",
    "1. GROUP BY command, or\n",
    "2. an aggregation function.\n",
    "\n",
    "Consider the query below:"
   ]
  },
  {
   "cell_type": "raw",
   "metadata": {},
   "source": [
    "query_good = \"\"\"\n",
    "             SELECT parent, COUNT(id)\n",
    "             FROM `bigquery-public-data.hacker_news.comments`\n",
    "             GROUP BY parent\n",
    "             \"\"\""
   ]
  },
  {
   "cell_type": "code",
   "execution_count": 9,
   "metadata": {},
   "outputs": [
    {
     "name": "stderr",
     "output_type": "stream",
     "text": [
      "Downloading: 100%|████████████████████████████████████████████████████████████████| 390/390 [00:01<00:00, 240.33rows/s]\n"
     ]
    },
    {
     "data": {
      "text/html": [
       "<div>\n",
       "<style scoped>\n",
       "    .dataframe tbody tr th:only-of-type {\n",
       "        vertical-align: middle;\n",
       "    }\n",
       "\n",
       "    .dataframe tbody tr th {\n",
       "        vertical-align: top;\n",
       "    }\n",
       "\n",
       "    .dataframe thead th {\n",
       "        text-align: right;\n",
       "    }\n",
       "</style>\n",
       "<table border=\"1\" class=\"dataframe\">\n",
       "  <thead>\n",
       "    <tr style=\"text-align: right;\">\n",
       "      <th></th>\n",
       "      <th>num_comments</th>\n",
       "      <th>f0_</th>\n",
       "    </tr>\n",
       "  </thead>\n",
       "  <tbody>\n",
       "    <tr>\n",
       "      <th>0</th>\n",
       "      <td>1</td>\n",
       "      <td>6884</td>\n",
       "    </tr>\n",
       "    <tr>\n",
       "      <th>1</th>\n",
       "      <td>513</td>\n",
       "      <td>1</td>\n",
       "    </tr>\n",
       "    <tr>\n",
       "      <th>2</th>\n",
       "      <td>2</td>\n",
       "      <td>2467</td>\n",
       "    </tr>\n",
       "    <tr>\n",
       "      <th>3</th>\n",
       "      <td>514</td>\n",
       "      <td>2</td>\n",
       "    </tr>\n",
       "    <tr>\n",
       "      <th>4</th>\n",
       "      <td>3</td>\n",
       "      <td>1265</td>\n",
       "    </tr>\n",
       "  </tbody>\n",
       "</table>\n",
       "</div>"
      ],
      "text/plain": [
       "   num_comments   f0_\n",
       "0             1  6884\n",
       "1           513     1\n",
       "2             2  2467\n",
       "3           514     2\n",
       "4             3  1265"
      ]
     },
     "execution_count": 9,
     "metadata": {},
     "output_type": "execute_result"
    }
   ],
   "source": [
    "# import dataset dari google bigquery dengan pandas (dataset hacker_news.comments belum kita download)\n",
    "# kita coba tampilkan num_comments\n",
    "hacker_news = gbq.read_gbq('SELECT num_comments, COUNT(id) FROM hacker_news.hacker_news_dataset GROUP BY num_comments', \n",
    "                            project_id='numeric-dialect-275303')\n",
    "hacker_news.head()"
   ]
  },
  {
   "cell_type": "markdown",
   "metadata": {},
   "source": [
    "Note that there are two variables: parent and id.\n",
    "\n",
    "- parent was passed to a GROUP BY command (in GROUP BY parent), and\n",
    "- id was passed to an aggregate function (in COUNT(id)).\n",
    "\n",
    "And this query won't work, because the author column isn't passed to an aggregate function or a GROUP BY clause:"
   ]
  },
  {
   "cell_type": "raw",
   "metadata": {},
   "source": [
    "query_bad = \"\"\"\n",
    "            SELECT author, parent, COUNT(id)\n",
    "            FROM `bigquery-public-data.hacker_news.comments`\n",
    "            GROUP BY parent\n",
    "            \"\"\""
   ]
  },
  {
   "cell_type": "code",
   "execution_count": 10,
   "metadata": {},
   "outputs": [],
   "source": [
    "# import dataset dari google bigquery dengan pandas (dataset hacker_news.comments belum kita download)\n",
    "# kita coba tampilkan num_comments\n",
    "# hacker_news = gbq.read_gbq('SELECT author, num_comments, COUNT(id) FROM hacker_news.hacker_news_dataset GROUP BY num_comments', \n",
    "#                             project_id='numeric-dialect-275303')\n",
    "# hacker_news.head()\n",
    "\n",
    "# yes, hasilnya memang error"
   ]
  },
  {
   "cell_type": "markdown",
   "metadata": {},
   "source": [
    "If make this error, you'll get the error message SELECT list expression references column (column's name) which is neither grouped nor aggregated at."
   ]
  },
  {
   "cell_type": "markdown",
   "metadata": {},
   "source": [
    "## Your turn\n",
    "These aggregations let you write much more interesting queries. Try it yourself with these coding exercises."
   ]
  },
  {
   "cell_type": "markdown",
   "metadata": {},
   "source": [
    "# Exercise: Group By, Having & Count"
   ]
  },
  {
   "cell_type": "markdown",
   "metadata": {},
   "source": [
    "## Introduction\n",
    "Queries with GROUP BY can be powerful. There are many small things that can trip you up (like the order of the clauses), but it will start to feel natural once you've done it a few times. Here, you'll write queries using GROUP BY to answer questions from the Hacker News dataset.\n",
    "\n",
    "Before you get started, run the following cell to set everything up:"
   ]
  },
  {
   "cell_type": "code",
   "execution_count": 11,
   "metadata": {},
   "outputs": [
    {
     "name": "stderr",
     "output_type": "stream",
     "text": [
      "Downloading: 100%|█████████████████████████████████████████████████████████████████| 100/100 [00:01<00:00, 58.32rows/s]\n"
     ]
    },
    {
     "data": {
      "text/html": [
       "<div>\n",
       "<style scoped>\n",
       "    .dataframe tbody tr th:only-of-type {\n",
       "        vertical-align: middle;\n",
       "    }\n",
       "\n",
       "    .dataframe tbody tr th {\n",
       "        vertical-align: top;\n",
       "    }\n",
       "\n",
       "    .dataframe thead th {\n",
       "        text-align: right;\n",
       "    }\n",
       "</style>\n",
       "<table border=\"1\" class=\"dataframe\">\n",
       "  <thead>\n",
       "    <tr style=\"text-align: right;\">\n",
       "      <th></th>\n",
       "      <th>id</th>\n",
       "      <th>title</th>\n",
       "      <th>url</th>\n",
       "      <th>num_points</th>\n",
       "      <th>num_comments</th>\n",
       "      <th>author</th>\n",
       "      <th>created_at</th>\n",
       "    </tr>\n",
       "  </thead>\n",
       "  <tbody>\n",
       "    <tr>\n",
       "      <th>0</th>\n",
       "      <td>12121216</td>\n",
       "      <td>Valid.ly  Never send another OOPS message</td>\n",
       "      <td>https://www.valid.ly</td>\n",
       "      <td>1</td>\n",
       "      <td>1</td>\n",
       "      <td>validly</td>\n",
       "      <td>2016-07-19 12:05:00+00:00</td>\n",
       "    </tr>\n",
       "    <tr>\n",
       "      <th>1</th>\n",
       "      <td>11610310</td>\n",
       "      <td>Ask HN: Aby recent changes to CSS that broke m...</td>\n",
       "      <td>None</td>\n",
       "      <td>1</td>\n",
       "      <td>1</td>\n",
       "      <td>polskibus</td>\n",
       "      <td>2016-05-02 10:14:00+00:00</td>\n",
       "    </tr>\n",
       "    <tr>\n",
       "      <th>2</th>\n",
       "      <td>11590768</td>\n",
       "      <td>Show HN: Shanhu.io, a programming playground p...</td>\n",
       "      <td>https://shanhu.io</td>\n",
       "      <td>1</td>\n",
       "      <td>1</td>\n",
       "      <td>h8liu</td>\n",
       "      <td>2016-04-28 18:05:00+00:00</td>\n",
       "    </tr>\n",
       "    <tr>\n",
       "      <th>3</th>\n",
       "      <td>10581844</td>\n",
       "      <td>Analysis of 114 propaganda sources from ISIS, ...</td>\n",
       "      <td>http://37.252.122.95/sites/default/files/Insid...</td>\n",
       "      <td>1</td>\n",
       "      <td>1</td>\n",
       "      <td>crosre</td>\n",
       "      <td>2015-11-17 15:53:00+00:00</td>\n",
       "    </tr>\n",
       "    <tr>\n",
       "      <th>4</th>\n",
       "      <td>10402073</td>\n",
       "      <td>Predicting the Future and Exponential Growth</td>\n",
       "      <td>http://uday.io/2015/10/15/predicting-the-futur...</td>\n",
       "      <td>1</td>\n",
       "      <td>1</td>\n",
       "      <td>urs2102</td>\n",
       "      <td>2015-10-16 21:19:00+00:00</td>\n",
       "    </tr>\n",
       "  </tbody>\n",
       "</table>\n",
       "</div>"
      ],
      "text/plain": [
       "         id                                              title  \\\n",
       "0  12121216          Valid.ly  Never send another OOPS message   \n",
       "1  11610310  Ask HN: Aby recent changes to CSS that broke m...   \n",
       "2  11590768  Show HN: Shanhu.io, a programming playground p...   \n",
       "3  10581844  Analysis of 114 propaganda sources from ISIS, ...   \n",
       "4  10402073       Predicting the Future and Exponential Growth   \n",
       "\n",
       "                                                 url  num_points  \\\n",
       "0                               https://www.valid.ly           1   \n",
       "1                                               None           1   \n",
       "2                                  https://shanhu.io           1   \n",
       "3  http://37.252.122.95/sites/default/files/Insid...           1   \n",
       "4  http://uday.io/2015/10/15/predicting-the-futur...           1   \n",
       "\n",
       "   num_comments     author                created_at  \n",
       "0             1    validly 2016-07-19 12:05:00+00:00  \n",
       "1             1  polskibus 2016-05-02 10:14:00+00:00  \n",
       "2             1      h8liu 2016-04-28 18:05:00+00:00  \n",
       "3             1     crosre 2015-11-17 15:53:00+00:00  \n",
       "4             1    urs2102 2015-10-16 21:19:00+00:00  "
      ]
     },
     "execution_count": 11,
     "metadata": {},
     "output_type": "execute_result"
    }
   ],
   "source": [
    "hacker_news = gbq.read_gbq('select * from hacker_news.hacker_news_dataset limit 100',\n",
    "                           project_id = 'numeric-dialect-275303')\n",
    "hacker_news.head()"
   ]
  },
  {
   "cell_type": "markdown",
   "metadata": {},
   "source": [
    "## Exercises\n",
    "\n",
    "#### 1) Prolific commenters\n",
    "\n",
    "Hacker News would like to send awards to everyone who has written more than 10,000 posts. Write a query that returns all authors with more than 10,000 posts as well as their post counts. Call the column with post counts `NumPosts`.\n",
    "\n",
    "In case sample query is helpful, here is a query you saw in the tutorial to answer a similar question:\n",
    "    ```\n",
    "    query = \"\"\"\n",
    "            SELECT parent, COUNT(1) AS NumPosts\n",
    "            FROM `bigquery-public-data.hacker_news.comments`\n",
    "            GROUP BY parent\n",
    "            HAVING COUNT(1) > 10\n",
    "            \"\"\"\n",
    "    ```\n",
    "##### Jawaban Di Kaggle"
   ]
  },
  {
   "cell_type": "raw",
   "metadata": {},
   "source": [
    "# Query to select prolific commenters and post counts\n",
    "prolific_commenters_query = \"\"\" SELECT author, COUNT(1) AS NumPosts\n",
    "                                FROM `bigquery-public-data.hacker_news.comments`\n",
    "                                GROUP BY author HAVING COUNT(1) > 10000\"\"\" # Your code goes here\n",
    "\n",
    "# Set up the query (cancel the query if it would use too much of \n",
    "# your quota, with the limit set to 1 GB)\n",
    "safe_config = bigquery.QueryJobConfig(maximum_bytes_billed=10**10)\n",
    "query_job = client.query(prolific_commenters_query, job_config=safe_config)\n",
    "\n",
    "# API request - run the query, and return a pandas DataFrame\n",
    "prolific_commenters = query_job.to_dataframe()\n",
    "\n",
    "# View top few rows of results\n",
    "print(prolific_commenters.head())"
   ]
  },
  {
   "cell_type": "markdown",
   "metadata": {},
   "source": [
    "##### Coba ke dataset hacker_news"
   ]
  },
  {
   "cell_type": "code",
   "execution_count": 12,
   "metadata": {},
   "outputs": [
    {
     "name": "stderr",
     "output_type": "stream",
     "text": [
      "Downloading: 100%|█████████████████████████████████████████████████████████████████████| 2/2 [00:01<00:00,  1.10rows/s]\n"
     ]
    },
    {
     "data": {
      "text/html": [
       "<div>\n",
       "<style scoped>\n",
       "    .dataframe tbody tr th:only-of-type {\n",
       "        vertical-align: middle;\n",
       "    }\n",
       "\n",
       "    .dataframe tbody tr th {\n",
       "        vertical-align: top;\n",
       "    }\n",
       "\n",
       "    .dataframe thead th {\n",
       "        text-align: right;\n",
       "    }\n",
       "</style>\n",
       "<table border=\"1\" class=\"dataframe\">\n",
       "  <thead>\n",
       "    <tr style=\"text-align: right;\">\n",
       "      <th></th>\n",
       "      <th>author</th>\n",
       "      <th>Numpost</th>\n",
       "    </tr>\n",
       "  </thead>\n",
       "  <tbody>\n",
       "    <tr>\n",
       "      <th>0</th>\n",
       "      <td>prostoalex</td>\n",
       "      <td>123</td>\n",
       "    </tr>\n",
       "    <tr>\n",
       "      <th>1</th>\n",
       "      <td>ingve</td>\n",
       "      <td>198</td>\n",
       "    </tr>\n",
       "  </tbody>\n",
       "</table>\n",
       "</div>"
      ],
      "text/plain": [
       "       author  Numpost\n",
       "0  prostoalex      123\n",
       "1       ingve      198"
      ]
     },
     "execution_count": 12,
     "metadata": {},
     "output_type": "execute_result"
    }
   ],
   "source": [
    "hacker_news = gbq.read_gbq('select author, count(1) as Numpost from hacker_news.hacker_news_dataset group by author having count(1) > 100',\n",
    "                           project_id = 'numeric-dialect-275303')\n",
    "hacker_news.head()\n"
   ]
  },
  {
   "cell_type": "markdown",
   "metadata": {},
   "source": [
    "#### 2) Deleted comments\n",
    "How many comments have been deleted? (If a comment was deleted, the deleted column in the comments table will have the value True.)\n",
    "\n",
    "##### Jawaban Di Kaggle"
   ]
  },
  {
   "cell_type": "raw",
   "metadata": {},
   "source": [
    "# Write your query here and figure out the answer\n",
    "delete_commenters_query = \"\"\" \n",
    "                          SELECT COUNT(1) AS num_deleted_posts\n",
    "                          FROM `bigquery-public-data.hacker_news.comments`\n",
    "                          WHERE deleted = True\n",
    "                          \"\"\"\n",
    "\n",
    "# Set up the query (cancel the query if it would use too much of \n",
    "# your quota, with the limit set to 1 GB)\n",
    "safe_config = bigquery.QueryJobConfig(maximum_bytes_billed=10**10)\n",
    "query_job = client.query(delete_commenters_query, job_config=safe_config)\n",
    "\n",
    "# API request - run the query, and return a pandas DataFrame\n",
    "deleted_commenters = query_job.to_dataframe()\n",
    "\n",
    "# View top few rows of results\n",
    "print(deleted_commenters.head())"
   ]
  },
  {
   "cell_type": "markdown",
   "metadata": {},
   "source": [
    "##### Coba ke dataset hacker_news"
   ]
  },
  {
   "cell_type": "code",
   "execution_count": 13,
   "metadata": {},
   "outputs": [
    {
     "name": "stderr",
     "output_type": "stream",
     "text": [
      "Downloading: 100%|█████████████████████████████████████████████████████████████████████| 1/1 [00:01<00:00,  1.77s/rows]\n"
     ]
    },
    {
     "data": {
      "text/html": [
       "<div>\n",
       "<style scoped>\n",
       "    .dataframe tbody tr th:only-of-type {\n",
       "        vertical-align: middle;\n",
       "    }\n",
       "\n",
       "    .dataframe tbody tr th {\n",
       "        vertical-align: top;\n",
       "    }\n",
       "\n",
       "    .dataframe thead th {\n",
       "        text-align: right;\n",
       "    }\n",
       "</style>\n",
       "<table border=\"1\" class=\"dataframe\">\n",
       "  <thead>\n",
       "    <tr style=\"text-align: right;\">\n",
       "      <th></th>\n",
       "      <th>NumUrlNone</th>\n",
       "    </tr>\n",
       "  </thead>\n",
       "  <tbody>\n",
       "    <tr>\n",
       "      <th>0</th>\n",
       "      <td>1</td>\n",
       "    </tr>\n",
       "  </tbody>\n",
       "</table>\n",
       "</div>"
      ],
      "text/plain": [
       "   NumUrlNone\n",
       "0           1"
      ]
     },
     "execution_count": 13,
     "metadata": {},
     "output_type": "execute_result"
    }
   ],
   "source": [
    "hacker_news = gbq.read_gbq('SELECT COUNT(1) AS NumUrlNone from hacker_news.hacker_news_dataset WHERE url = \"https://www.valid.ly\"',\n",
    "                           project_id = 'numeric-dialect-275303')\n",
    "hacker_news.head()"
   ]
  }
 ],
 "metadata": {
  "kernelspec": {
   "display_name": "Python 3",
   "language": "python",
   "name": "python3"
  },
  "language_info": {
   "codemirror_mode": {
    "name": "ipython",
    "version": 3
   },
   "file_extension": ".py",
   "mimetype": "text/x-python",
   "name": "python",
   "nbconvert_exporter": "python",
   "pygments_lexer": "ipython3",
   "version": "3.7.6"
  }
 },
 "nbformat": 4,
 "nbformat_minor": 4
}
